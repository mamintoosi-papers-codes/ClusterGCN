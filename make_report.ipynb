{
 "cells": [
  {
   "cell_type": "code",
   "execution_count": null,
   "metadata": {},
   "outputs": [],
   "source": [
    "Report = []\n",
    "for ds_name in ['CiteSeer', 'Cora']:\n",
    "    for mc in [x / 10.0 for x in range(1, 3)]: #11)]\n",
    "        %run src/main.py --dataset-name {ds_name} --clustering-overlap True\\\n",
    "        --clustering-method 'danmf' --epochs 2\\\n",
    "        --membership-closeness {mc}\n",
    "        Report.append(ds_report)\n",
    "        \n",
    "df = pd.DataFrame(Report, columns=['Winner Membership Closeness','dataset name',\\\n",
    "'F-1 Score', 'Overlapped Nodes','Run Time'])\n",
    "df"
   ]
  }
 ],
 "metadata": {
  "kernelspec": {
   "display_name": "Python 3",
   "language": "python",
   "name": "python3"
  },
  "language_info": {
   "codemirror_mode": {
    "name": "ipython",
    "version": 3
   },
   "file_extension": ".py",
   "mimetype": "text/x-python",
   "name": "python",
   "nbconvert_exporter": "python",
   "pygments_lexer": "ipython3",
   "version": "3.7.6"
  }
 },
 "nbformat": 4,
 "nbformat_minor": 4
}

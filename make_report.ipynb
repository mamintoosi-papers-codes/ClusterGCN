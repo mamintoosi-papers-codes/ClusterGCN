{
 "cells": [
  {
   "cell_type": "code",
   "execution_count": null,
   "metadata": {},
   "outputs": [],
   "source": [
    "Report = []\n",
    "for ds_name in ['CiteSeer', 'Cora', 'PubMed', 'WikiCS']:\n",
    "    for mc in [x / 10.0 for x in range(1, 11)]\n",
    "        %run src/main.py --dataset-name {ds_name} --clustering-overlap True\\\n",
    "        --clustering-method 'danmf' --epochs 10\\\n",
    "        --membership-closeness {mc}\n",
    "        Report.append(ds_report)\n",
    "        \n",
    "df = pd.DataFrame(Report, columns=['Winner Membership Closeness','Dataset Name',\\\n",
    "'F-1 Score', 'Overlapped Nodes','Run Time'])\n",
    "df"
   ]
  },
  {
   "cell_type": "code",
   "execution_count": null,
   "metadata": {},
   "outputs": [],
   "source": [
    "score_file_name = 'results/F1_score.xlsx'\n",
    "writer = ExcelWriter(score_file_name)\n",
    "df.to_excel(writer)#, sheet_name='All')  # , index=False)\n",
    "writer.save()        \n",
    "writer.close()"
   ]
  },
  {
   "cell_type": "code",
   "execution_count": null,
   "metadata": {},
   "outputs": [],
   "source": [
    "import seaborn as sns\n",
    "import matplotlib.pyplot as plt\n",
    "# df = pd.read_excel(file_name, engine=\"openpyxl\") \n",
    "fig = plt.figure(figsize=(10, 4))\n",
    "sns.lineplot(x=\"Winner Membership Closeness\", y=\"F-1 Score\",\n",
    "             hue=\"dataset name\",# style=\"min_freq\",\n",
    "             data=df)\n",
    "# png_file_name = 'results/{}.png'.format(args.dataset_name)\n",
    "score_png_file_name = 'results/F1_score.png'\n",
    "fig.savefig(png_file_name)"
   ]
  },
  {
   "cell_type": "code",
   "execution_count": null,
   "metadata": {},
   "outputs": [],
   "source": [
    "sns.lineplot(x=\"Winner Membership Closeness\", y=\"Overlapped Nodes\",\n",
    "#              hue=\"dataset name\",# style=\"min_freq\",\n",
    "             data=df)\n",
    "ON_png_file_name = 'results/ON.png'\n",
    "fig.savefig(ON_png_file_name)"
   ]
  },
  {
   "cell_type": "code",
   "execution_count": null,
   "metadata": {},
   "outputs": [],
   "source": [
    "sns.lineplot(x=\"Winner Membership Closeness\", y=\"Run Time\",\n",
    "#              hue=\"dataset name\",# style=\"min_freq\",\n",
    "             data=df)\n",
    "RT_png_file_name = 'results/RT.png'\n",
    "fig.savefig(RT_png_file_name)"
   ]
  },
  {
   "cell_type": "code",
   "execution_count": null,
   "metadata": {},
   "outputs": [],
   "source": [
    "from google.colab import files\n",
    "files.download(score_file_name) \n",
    "# files.download(score_png_file_name) \n",
    "# files.download(ON_ong_file_name) \n",
    "# files.download(RT_ong_file_name) "
   ]
  }
 ],
 "metadata": {
  "kernelspec": {
   "display_name": "Python 3",
   "language": "python",
   "name": "python3"
  },
  "language_info": {
   "codemirror_mode": {
    "name": "ipython",
    "version": 3
   },
   "file_extension": ".py",
   "mimetype": "text/x-python",
   "name": "python",
   "nbconvert_exporter": "python",
   "pygments_lexer": "ipython3",
   "version": "3.7.6"
  }
 },
 "nbformat": 4,
 "nbformat_minor": 4
}

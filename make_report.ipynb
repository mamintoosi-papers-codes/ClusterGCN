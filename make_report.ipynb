{
 "cells": [
  {
   "cell_type": "code",
   "execution_count": 1,
   "metadata": {},
   "outputs": [],
   "source": [
    "                                                                                                                                                                                                                                                                            import seaborn as sns\n",
    "                                                                                                                                                                                                                                                                            import matplotlib.pyplot as plt\n",
    "                                                                                                                                                                                                                                                                            import pandas as pd "
   ]
  },
  {
   "cell_type": "code",
   "execution_count": 2,
   "metadata": {},
   "outputs": [
    {
     "name": "stdout",
     "output_type": "stream",
     "text": [
      "(3327, 3703) (3327, 1)\n"
     ]
    },
    {
     "name": "stderr",
     "output_type": "stream",
     "text": [
      "/home/mahmood/anaconda3/lib/python3.7/site-packages/sklearn/decomposition/_nmf.py:1077: ConvergenceWarning: Maximum number of iterations 500 reached. Increase it to improve convergence.\n",
      "  \" improve convergence.\" % max_iter, ConvergenceWarning)\n"
     ]
    },
    {
     "name": "stdout",
     "output_type": "stream",
     "text": [
      "P.shape (3327, 6)\n",
      "\n",
      "Num Clusters: 6\n"
     ]
    },
    {
     "name": "stderr",
     "output_type": "stream",
     "text": [
      "\r",
      "Train Loss:   0%|          | 0/10 [00:00<?, ?it/s]"
     ]
    },
    {
     "name": "stdout",
     "output_type": "stream",
     "text": [
      "\n",
      "Number of clusters' nodes: 3847\n"
     ]
    },
    {
     "name": "stderr",
     "output_type": "stream",
     "text": [
      "Train Loss: 0.5526: 100%|██████████| 10/10 [00:00<00:00, 11.96it/s]\n"
     ]
    },
    {
     "name": "stdout",
     "output_type": "stream",
     "text": [
      "\n",
      "F-1 score: 0.72\n",
      "(3327, 3703) (3327, 1)\n"
     ]
    },
    {
     "name": "stderr",
     "output_type": "stream",
     "text": [
      "/home/mahmood/anaconda3/lib/python3.7/site-packages/sklearn/decomposition/_nmf.py:1077: ConvergenceWarning: Maximum number of iterations 500 reached. Increase it to improve convergence.\n",
      "  \" improve convergence.\" % max_iter, ConvergenceWarning)\n"
     ]
    },
    {
     "name": "stdout",
     "output_type": "stream",
     "text": [
      "P.shape (3327, 6)\n",
      "\n",
      "Num Clusters: 6\n"
     ]
    },
    {
     "name": "stderr",
     "output_type": "stream",
     "text": [
      "Train Loss: 1.6383:  20%|██        | 2/10 [00:00<00:00, 12.71it/s]"
     ]
    },
    {
     "name": "stdout",
     "output_type": "stream",
     "text": [
      "\n",
      "Number of clusters' nodes: 3715\n"
     ]
    },
    {
     "name": "stderr",
     "output_type": "stream",
     "text": [
      "Train Loss: 0.4828: 100%|██████████| 10/10 [00:00<00:00, 13.61it/s]\n"
     ]
    },
    {
     "name": "stdout",
     "output_type": "stream",
     "text": [
      "\n",
      "F-1 score: 0.70\n",
      "(3327, 3703) (3327, 1)\n"
     ]
    },
    {
     "name": "stderr",
     "output_type": "stream",
     "text": [
      "/home/mahmood/anaconda3/lib/python3.7/site-packages/sklearn/decomposition/_nmf.py:1077: ConvergenceWarning: Maximum number of iterations 500 reached. Increase it to improve convergence.\n",
      "  \" improve convergence.\" % max_iter, ConvergenceWarning)\n"
     ]
    },
    {
     "name": "stdout",
     "output_type": "stream",
     "text": [
      "P.shape (3327, 6)\n",
      "\n",
      "Num Clusters: 6\n"
     ]
    },
    {
     "name": "stderr",
     "output_type": "stream",
     "text": [
      "Train Loss: 1.6826:  20%|██        | 2/10 [00:00<00:00, 13.23it/s]"
     ]
    },
    {
     "name": "stdout",
     "output_type": "stream",
     "text": [
      "\n",
      "Number of clusters' nodes: 3654\n"
     ]
    },
    {
     "name": "stderr",
     "output_type": "stream",
     "text": [
      "Train Loss: 0.4538: 100%|██████████| 10/10 [00:00<00:00, 15.01it/s]\n"
     ]
    },
    {
     "name": "stdout",
     "output_type": "stream",
     "text": [
      "\n",
      "F-1 score: 0.69\n",
      "(3327, 3703) (3327, 1)\n"
     ]
    },
    {
     "name": "stderr",
     "output_type": "stream",
     "text": [
      "/home/mahmood/anaconda3/lib/python3.7/site-packages/sklearn/decomposition/_nmf.py:1077: ConvergenceWarning: Maximum number of iterations 500 reached. Increase it to improve convergence.\n",
      "  \" improve convergence.\" % max_iter, ConvergenceWarning)\n"
     ]
    },
    {
     "name": "stdout",
     "output_type": "stream",
     "text": [
      "P.shape (3327, 6)\n",
      "\n",
      "Num Clusters: 6\n"
     ]
    },
    {
     "name": "stderr",
     "output_type": "stream",
     "text": [
      "Train Loss: 1.7211:  20%|██        | 2/10 [00:00<00:00, 14.41it/s]"
     ]
    },
    {
     "name": "stdout",
     "output_type": "stream",
     "text": [
      "\n",
      "Number of clusters' nodes: 3543\n"
     ]
    },
    {
     "name": "stderr",
     "output_type": "stream",
     "text": [
      "Train Loss: 0.5243: 100%|██████████| 10/10 [00:00<00:00, 13.22it/s]\n"
     ]
    },
    {
     "name": "stdout",
     "output_type": "stream",
     "text": [
      "\n",
      "F-1 score: 0.69\n",
      "(3327, 3703) (3327, 1)\n"
     ]
    },
    {
     "name": "stderr",
     "output_type": "stream",
     "text": [
      "/home/mahmood/anaconda3/lib/python3.7/site-packages/sklearn/decomposition/_nmf.py:1077: ConvergenceWarning: Maximum number of iterations 500 reached. Increase it to improve convergence.\n",
      "  \" improve convergence.\" % max_iter, ConvergenceWarning)\n"
     ]
    },
    {
     "name": "stdout",
     "output_type": "stream",
     "text": [
      "P.shape (3327, 6)\n",
      "\n",
      "Num Clusters: 6\n"
     ]
    },
    {
     "name": "stderr",
     "output_type": "stream",
     "text": [
      "Train Loss: 1.7471:  20%|██        | 2/10 [00:00<00:00, 10.67it/s]"
     ]
    },
    {
     "name": "stdout",
     "output_type": "stream",
     "text": [
      "\n",
      "Number of clusters' nodes: 3503\n"
     ]
    },
    {
     "name": "stderr",
     "output_type": "stream",
     "text": [
      "Train Loss: 0.5269: 100%|██████████| 10/10 [00:00<00:00, 12.43it/s]\n"
     ]
    },
    {
     "name": "stdout",
     "output_type": "stream",
     "text": [
      "\n",
      "F-1 score: 0.70\n",
      "(3327, 3703) (3327, 1)\n"
     ]
    },
    {
     "name": "stderr",
     "output_type": "stream",
     "text": [
      "/home/mahmood/anaconda3/lib/python3.7/site-packages/sklearn/decomposition/_nmf.py:1077: ConvergenceWarning: Maximum number of iterations 500 reached. Increase it to improve convergence.\n",
      "  \" improve convergence.\" % max_iter, ConvergenceWarning)\n"
     ]
    },
    {
     "name": "stdout",
     "output_type": "stream",
     "text": [
      "P.shape (3327, 6)\n",
      "\n",
      "Num Clusters: 6\n"
     ]
    },
    {
     "name": "stderr",
     "output_type": "stream",
     "text": [
      "Train Loss: 1.7372:  20%|██        | 2/10 [00:00<00:00, 12.13it/s]"
     ]
    },
    {
     "name": "stdout",
     "output_type": "stream",
     "text": [
      "\n",
      "Number of clusters' nodes: 3464\n"
     ]
    },
    {
     "name": "stderr",
     "output_type": "stream",
     "text": [
      "Train Loss: 0.5898: 100%|██████████| 10/10 [00:00<00:00, 14.92it/s]\n"
     ]
    },
    {
     "name": "stdout",
     "output_type": "stream",
     "text": [
      "\n",
      "F-1 score: 0.69\n",
      "(3327, 3703) (3327, 1)\n"
     ]
    },
    {
     "name": "stderr",
     "output_type": "stream",
     "text": [
      "/home/mahmood/anaconda3/lib/python3.7/site-packages/sklearn/decomposition/_nmf.py:1077: ConvergenceWarning: Maximum number of iterations 500 reached. Increase it to improve convergence.\n",
      "  \" improve convergence.\" % max_iter, ConvergenceWarning)\n"
     ]
    },
    {
     "name": "stdout",
     "output_type": "stream",
     "text": [
      "P.shape (3327, 6)\n",
      "\n",
      "Num Clusters: 6\n"
     ]
    },
    {
     "name": "stderr",
     "output_type": "stream",
     "text": [
      "Train Loss: 1.755:  20%|██        | 2/10 [00:00<00:00, 13.78it/s]"
     ]
    },
    {
     "name": "stdout",
     "output_type": "stream",
     "text": [
      "\n",
      "Number of clusters' nodes: 3442\n"
     ]
    },
    {
     "name": "stderr",
     "output_type": "stream",
     "text": [
      "Train Loss: 0.5546: 100%|██████████| 10/10 [00:00<00:00, 13.75it/s]\n"
     ]
    },
    {
     "name": "stdout",
     "output_type": "stream",
     "text": [
      "\n",
      "F-1 score: 0.70\n",
      "(3327, 3703) (3327, 1)\n"
     ]
    },
    {
     "name": "stderr",
     "output_type": "stream",
     "text": [
      "/home/mahmood/anaconda3/lib/python3.7/site-packages/sklearn/decomposition/_nmf.py:1077: ConvergenceWarning: Maximum number of iterations 500 reached. Increase it to improve convergence.\n",
      "  \" improve convergence.\" % max_iter, ConvergenceWarning)\n"
     ]
    },
    {
     "name": "stdout",
     "output_type": "stream",
     "text": [
      "P.shape (3327, 6)\n",
      "\n",
      "Num Clusters: 6\n"
     ]
    },
    {
     "name": "stderr",
     "output_type": "stream",
     "text": [
      "Train Loss: 1.6623:  20%|██        | 2/10 [00:00<00:00, 15.14it/s]"
     ]
    },
    {
     "name": "stdout",
     "output_type": "stream",
     "text": [
      "\n",
      "Number of clusters' nodes: 3366\n"
     ]
    },
    {
     "name": "stderr",
     "output_type": "stream",
     "text": [
      "Train Loss: 0.635: 100%|██████████| 10/10 [00:00<00:00, 13.42it/s]\n"
     ]
    },
    {
     "name": "stdout",
     "output_type": "stream",
     "text": [
      "\n",
      "F-1 score: 0.69\n",
      "(3327, 3703) (3327, 1)\n"
     ]
    },
    {
     "name": "stderr",
     "output_type": "stream",
     "text": [
      "/home/mahmood/anaconda3/lib/python3.7/site-packages/sklearn/decomposition/_nmf.py:1077: ConvergenceWarning: Maximum number of iterations 500 reached. Increase it to improve convergence.\n",
      "  \" improve convergence.\" % max_iter, ConvergenceWarning)\n"
     ]
    },
    {
     "name": "stdout",
     "output_type": "stream",
     "text": [
      "P.shape (3327, 6)\n",
      "\n",
      "Num Clusters: 6\n"
     ]
    },
    {
     "name": "stderr",
     "output_type": "stream",
     "text": [
      "Train Loss: 1.7535:  20%|██        | 2/10 [00:00<00:00, 14.13it/s]"
     ]
    },
    {
     "name": "stdout",
     "output_type": "stream",
     "text": [
      "\n",
      "Number of clusters' nodes: 3340\n"
     ]
    },
    {
     "name": "stderr",
     "output_type": "stream",
     "text": [
      "Train Loss: 0.6739: 100%|██████████| 10/10 [00:00<00:00, 13.66it/s]\n"
     ]
    },
    {
     "name": "stdout",
     "output_type": "stream",
     "text": [
      "\n",
      "F-1 score: 0.70\n",
      "(3327, 3703) (3327, 1)\n"
     ]
    },
    {
     "name": "stderr",
     "output_type": "stream",
     "text": [
      "/home/mahmood/anaconda3/lib/python3.7/site-packages/sklearn/decomposition/_nmf.py:1077: ConvergenceWarning: Maximum number of iterations 500 reached. Increase it to improve convergence.\n",
      "  \" improve convergence.\" % max_iter, ConvergenceWarning)\n"
     ]
    },
    {
     "name": "stdout",
     "output_type": "stream",
     "text": [
      "P.shape (3327, 6)\n",
      "\n",
      "Num Clusters: 6\n"
     ]
    },
    {
     "name": "stderr",
     "output_type": "stream",
     "text": [
      "Train Loss: 1.8201:  10%|█         | 1/10 [00:00<00:00,  9.26it/s]"
     ]
    },
    {
     "name": "stdout",
     "output_type": "stream",
     "text": [
      "\n",
      "Number of clusters' nodes: 3327\n"
     ]
    },
    {
     "name": "stderr",
     "output_type": "stream",
     "text": [
      "Train Loss: 0.6429: 100%|██████████| 10/10 [00:00<00:00, 10.14it/s]\n"
     ]
    },
    {
     "name": "stdout",
     "output_type": "stream",
     "text": [
      "\n",
      "F-1 score: 0.69\n",
      "(2708, 1433) (2708, 1)\n",
      "P.shape (2708, 7)\n",
      "\n",
      "Num Clusters: 7\n"
     ]
    },
    {
     "name": "stderr",
     "output_type": "stream",
     "text": [
      "Train Loss: 1.7491:  20%|██        | 2/10 [00:00<00:00, 13.22it/s]"
     ]
    },
    {
     "name": "stdout",
     "output_type": "stream",
     "text": [
      "\n",
      "Number of clusters' nodes: 4317\n"
     ]
    },
    {
     "name": "stderr",
     "output_type": "stream",
     "text": [
      "Train Loss: 0.6013: 100%|██████████| 10/10 [00:00<00:00, 11.48it/s]\n"
     ]
    },
    {
     "name": "stdout",
     "output_type": "stream",
     "text": [
      "\n",
      "F-1 score: 0.80\n",
      "(2708, 1433) (2708, 1)\n",
      "P.shape (2708, 7)\n",
      "\n",
      "Num Clusters: 7\n"
     ]
    },
    {
     "name": "stderr",
     "output_type": "stream",
     "text": [
      "Train Loss: 1.7719:  20%|██        | 2/10 [00:00<00:00, 15.18it/s]"
     ]
    },
    {
     "name": "stdout",
     "output_type": "stream",
     "text": [
      "\n",
      "Number of clusters' nodes: 3954\n"
     ]
    },
    {
     "name": "stderr",
     "output_type": "stream",
     "text": [
      "Train Loss: 0.5798: 100%|██████████| 10/10 [00:00<00:00, 13.95it/s]\n"
     ]
    },
    {
     "name": "stdout",
     "output_type": "stream",
     "text": [
      "\n",
      "F-1 score: 0.82\n",
      "(2708, 1433) (2708, 1)\n",
      "P.shape (2708, 7)\n",
      "\n",
      "Num Clusters: 7\n"
     ]
    },
    {
     "name": "stderr",
     "output_type": "stream",
     "text": [
      "Train Loss: 1.7281:  20%|██        | 2/10 [00:00<00:00, 15.26it/s]"
     ]
    },
    {
     "name": "stdout",
     "output_type": "stream",
     "text": [
      "\n",
      "Number of clusters' nodes: 3720\n"
     ]
    },
    {
     "name": "stderr",
     "output_type": "stream",
     "text": [
      "Train Loss: 0.6084: 100%|██████████| 10/10 [00:00<00:00, 12.97it/s]\n"
     ]
    },
    {
     "name": "stdout",
     "output_type": "stream",
     "text": [
      "\n",
      "F-1 score: 0.81\n",
      "(2708, 1433) (2708, 1)\n",
      "P.shape (2708, 7)\n",
      "\n",
      "Num Clusters: 7\n"
     ]
    },
    {
     "name": "stderr",
     "output_type": "stream",
     "text": [
      "Train Loss: 1.8854:  20%|██        | 2/10 [00:00<00:00, 12.88it/s]"
     ]
    },
    {
     "name": "stdout",
     "output_type": "stream",
     "text": [
      "\n",
      "Number of clusters' nodes: 3525\n"
     ]
    },
    {
     "name": "stderr",
     "output_type": "stream",
     "text": [
      "Train Loss: 0.6644: 100%|██████████| 10/10 [00:00<00:00, 12.51it/s]\n"
     ]
    },
    {
     "name": "stdout",
     "output_type": "stream",
     "text": [
      "\n",
      "F-1 score: 0.81\n",
      "(2708, 1433) (2708, 1)\n",
      "P.shape (2708, 7)\n",
      "\n",
      "Num Clusters: 7\n"
     ]
    },
    {
     "name": "stderr",
     "output_type": "stream",
     "text": [
      "Train Loss: 1.8278:  20%|██        | 2/10 [00:00<00:00, 14.39it/s]"
     ]
    },
    {
     "name": "stdout",
     "output_type": "stream",
     "text": [
      "\n",
      "Number of clusters' nodes: 3327\n"
     ]
    },
    {
     "name": "stderr",
     "output_type": "stream",
     "text": [
      "Train Loss: 0.5197: 100%|██████████| 10/10 [00:00<00:00, 12.43it/s]\n"
     ]
    },
    {
     "name": "stdout",
     "output_type": "stream",
     "text": [
      "\n",
      "F-1 score: 0.83\n",
      "(2708, 1433) (2708, 1)\n",
      "P.shape (2708, 7)\n",
      "\n",
      "Num Clusters: 7\n"
     ]
    },
    {
     "name": "stderr",
     "output_type": "stream",
     "text": [
      "Train Loss: 1.8547:  20%|██        | 2/10 [00:00<00:00, 14.00it/s]"
     ]
    },
    {
     "name": "stdout",
     "output_type": "stream",
     "text": [
      "\n",
      "Number of clusters' nodes: 3192\n"
     ]
    },
    {
     "name": "stderr",
     "output_type": "stream",
     "text": [
      "Train Loss: 0.5968: 100%|██████████| 10/10 [00:00<00:00, 14.25it/s]\n"
     ]
    },
    {
     "name": "stdout",
     "output_type": "stream",
     "text": [
      "\n",
      "F-1 score: 0.82\n",
      "(2708, 1433) (2708, 1)\n",
      "P.shape (2708, 7)\n",
      "\n",
      "Num Clusters: 7\n"
     ]
    },
    {
     "name": "stderr",
     "output_type": "stream",
     "text": [
      "Train Loss: 1.7092:  20%|██        | 2/10 [00:00<00:00, 17.42it/s]"
     ]
    },
    {
     "name": "stdout",
     "output_type": "stream",
     "text": [
      "\n",
      "Number of clusters' nodes: 3023\n"
     ]
    },
    {
     "name": "stderr",
     "output_type": "stream",
     "text": [
      "Train Loss: 0.5994: 100%|██████████| 10/10 [00:00<00:00, 17.27it/s]\n"
     ]
    },
    {
     "name": "stdout",
     "output_type": "stream",
     "text": [
      "\n",
      "F-1 score: 0.81\n",
      "(2708, 1433) (2708, 1)\n",
      "P.shape (2708, 7)\n",
      "\n",
      "Num Clusters: 7\n"
     ]
    },
    {
     "name": "stderr",
     "output_type": "stream",
     "text": [
      "Train Loss: 1.8874:  20%|██        | 2/10 [00:00<00:00, 11.79it/s]"
     ]
    },
    {
     "name": "stdout",
     "output_type": "stream",
     "text": [
      "\n",
      "Number of clusters' nodes: 2893\n"
     ]
    },
    {
     "name": "stderr",
     "output_type": "stream",
     "text": [
      "Train Loss: 0.6759: 100%|██████████| 10/10 [00:00<00:00, 15.72it/s]\n"
     ]
    },
    {
     "name": "stdout",
     "output_type": "stream",
     "text": [
      "\n",
      "F-1 score: 0.80\n",
      "(2708, 1433) (2708, 1)\n",
      "P.shape (2708, 7)\n",
      "\n",
      "Num Clusters: 7\n"
     ]
    },
    {
     "name": "stderr",
     "output_type": "stream",
     "text": [
      "Train Loss: 1.885:  20%|██        | 2/10 [00:00<00:00, 11.63it/s]"
     ]
    },
    {
     "name": "stdout",
     "output_type": "stream",
     "text": [
      "\n",
      "Number of clusters' nodes: 2827\n"
     ]
    },
    {
     "name": "stderr",
     "output_type": "stream",
     "text": [
      "Train Loss: 0.9027: 100%|██████████| 10/10 [00:01<00:00,  9.57it/s]\n"
     ]
    },
    {
     "name": "stdout",
     "output_type": "stream",
     "text": [
      "\n",
      "F-1 score: 0.76\n",
      "(2708, 1433) (2708, 1)\n",
      "P.shape (2708, 7)\n",
      "\n",
      "Num Clusters: 7\n"
     ]
    },
    {
     "name": "stderr",
     "output_type": "stream",
     "text": [
      "Train Loss: 1.9009:  20%|██        | 2/10 [00:00<00:00, 14.08it/s]"
     ]
    },
    {
     "name": "stdout",
     "output_type": "stream",
     "text": [
      "\n",
      "Number of clusters' nodes: 2708\n"
     ]
    },
    {
     "name": "stderr",
     "output_type": "stream",
     "text": [
      "Train Loss: 0.6435: 100%|██████████| 10/10 [00:00<00:00, 15.15it/s]\n"
     ]
    },
    {
     "name": "stdout",
     "output_type": "stream",
     "text": [
      "\n",
      "F-1 score: 0.81\n"
     ]
    },
    {
     "data": {
      "text/html": [
       "<div>\n",
       "<style scoped>\n",
       "    .dataframe tbody tr th:only-of-type {\n",
       "        vertical-align: middle;\n",
       "    }\n",
       "\n",
       "    .dataframe tbody tr th {\n",
       "        vertical-align: top;\n",
       "    }\n",
       "\n",
       "    .dataframe thead th {\n",
       "        text-align: right;\n",
       "    }\n",
       "</style>\n",
       "<table border=\"1\" class=\"dataframe\">\n",
       "  <thead>\n",
       "    <tr style=\"text-align: right;\">\n",
       "      <th></th>\n",
       "      <th>Winner Membership Closeness</th>\n",
       "      <th>Dataset Name</th>\n",
       "      <th>F-1 Score</th>\n",
       "      <th>Overlapped Nodes</th>\n",
       "      <th>Run Time</th>\n",
       "    </tr>\n",
       "  </thead>\n",
       "  <tbody>\n",
       "    <tr>\n",
       "      <th>0</th>\n",
       "      <td>0.1</td>\n",
       "      <td>CiteSeer</td>\n",
       "      <td>0.717730</td>\n",
       "      <td>0.156297</td>\n",
       "      <td>8.294717</td>\n",
       "    </tr>\n",
       "    <tr>\n",
       "      <th>1</th>\n",
       "      <td>0.2</td>\n",
       "      <td>CiteSeer</td>\n",
       "      <td>0.703419</td>\n",
       "      <td>0.116622</td>\n",
       "      <td>7.524590</td>\n",
       "    </tr>\n",
       "    <tr>\n",
       "      <th>2</th>\n",
       "      <td>0.3</td>\n",
       "      <td>CiteSeer</td>\n",
       "      <td>0.690625</td>\n",
       "      <td>0.098287</td>\n",
       "      <td>7.759296</td>\n",
       "    </tr>\n",
       "    <tr>\n",
       "      <th>3</th>\n",
       "      <td>0.4</td>\n",
       "      <td>CiteSeer</td>\n",
       "      <td>0.686669</td>\n",
       "      <td>0.064923</td>\n",
       "      <td>8.604266</td>\n",
       "    </tr>\n",
       "    <tr>\n",
       "      <th>4</th>\n",
       "      <td>0.5</td>\n",
       "      <td>CiteSeer</td>\n",
       "      <td>0.697229</td>\n",
       "      <td>0.052901</td>\n",
       "      <td>8.528849</td>\n",
       "    </tr>\n",
       "    <tr>\n",
       "      <th>5</th>\n",
       "      <td>0.6</td>\n",
       "      <td>CiteSeer</td>\n",
       "      <td>0.689328</td>\n",
       "      <td>0.041178</td>\n",
       "      <td>7.801884</td>\n",
       "    </tr>\n",
       "    <tr>\n",
       "      <th>6</th>\n",
       "      <td>0.7</td>\n",
       "      <td>CiteSeer</td>\n",
       "      <td>0.702198</td>\n",
       "      <td>0.034566</td>\n",
       "      <td>8.639177</td>\n",
       "    </tr>\n",
       "    <tr>\n",
       "      <th>7</th>\n",
       "      <td>0.8</td>\n",
       "      <td>CiteSeer</td>\n",
       "      <td>0.688983</td>\n",
       "      <td>0.011722</td>\n",
       "      <td>9.725088</td>\n",
       "    </tr>\n",
       "    <tr>\n",
       "      <th>8</th>\n",
       "      <td>0.9</td>\n",
       "      <td>CiteSeer</td>\n",
       "      <td>0.704274</td>\n",
       "      <td>0.003907</td>\n",
       "      <td>10.847659</td>\n",
       "    </tr>\n",
       "    <tr>\n",
       "      <th>9</th>\n",
       "      <td>1.0</td>\n",
       "      <td>CiteSeer</td>\n",
       "      <td>0.688679</td>\n",
       "      <td>0.000000</td>\n",
       "      <td>14.996145</td>\n",
       "    </tr>\n",
       "    <tr>\n",
       "      <th>10</th>\n",
       "      <td>0.1</td>\n",
       "      <td>Cora</td>\n",
       "      <td>0.796033</td>\n",
       "      <td>0.594165</td>\n",
       "      <td>29.759501</td>\n",
       "    </tr>\n",
       "    <tr>\n",
       "      <th>11</th>\n",
       "      <td>0.2</td>\n",
       "      <td>Cora</td>\n",
       "      <td>0.823954</td>\n",
       "      <td>0.460118</td>\n",
       "      <td>17.836746</td>\n",
       "    </tr>\n",
       "    <tr>\n",
       "      <th>12</th>\n",
       "      <td>0.3</td>\n",
       "      <td>Cora</td>\n",
       "      <td>0.808209</td>\n",
       "      <td>0.373708</td>\n",
       "      <td>8.628441</td>\n",
       "    </tr>\n",
       "    <tr>\n",
       "      <th>13</th>\n",
       "      <td>0.4</td>\n",
       "      <td>Cora</td>\n",
       "      <td>0.806478</td>\n",
       "      <td>0.301699</td>\n",
       "      <td>11.015980</td>\n",
       "    </tr>\n",
       "    <tr>\n",
       "      <th>14</th>\n",
       "      <td>0.5</td>\n",
       "      <td>Cora</td>\n",
       "      <td>0.827971</td>\n",
       "      <td>0.228582</td>\n",
       "      <td>9.320797</td>\n",
       "    </tr>\n",
       "    <tr>\n",
       "      <th>15</th>\n",
       "      <td>0.6</td>\n",
       "      <td>Cora</td>\n",
       "      <td>0.820822</td>\n",
       "      <td>0.178730</td>\n",
       "      <td>9.837485</td>\n",
       "    </tr>\n",
       "    <tr>\n",
       "      <th>16</th>\n",
       "      <td>0.7</td>\n",
       "      <td>Cora</td>\n",
       "      <td>0.812176</td>\n",
       "      <td>0.116322</td>\n",
       "      <td>8.934880</td>\n",
       "    </tr>\n",
       "    <tr>\n",
       "      <th>17</th>\n",
       "      <td>0.8</td>\n",
       "      <td>Cora</td>\n",
       "      <td>0.803254</td>\n",
       "      <td>0.068316</td>\n",
       "      <td>8.990752</td>\n",
       "    </tr>\n",
       "    <tr>\n",
       "      <th>18</th>\n",
       "      <td>0.9</td>\n",
       "      <td>Cora</td>\n",
       "      <td>0.760848</td>\n",
       "      <td>0.043944</td>\n",
       "      <td>19.255955</td>\n",
       "    </tr>\n",
       "    <tr>\n",
       "      <th>19</th>\n",
       "      <td>1.0</td>\n",
       "      <td>Cora</td>\n",
       "      <td>0.808320</td>\n",
       "      <td>0.000000</td>\n",
       "      <td>11.363158</td>\n",
       "    </tr>\n",
       "  </tbody>\n",
       "</table>\n",
       "</div>"
      ],
      "text/plain": [
       "    Winner Membership Closeness Dataset Name  F-1 Score  Overlapped Nodes  \\\n",
       "0                           0.1     CiteSeer   0.717730          0.156297   \n",
       "1                           0.2     CiteSeer   0.703419          0.116622   \n",
       "2                           0.3     CiteSeer   0.690625          0.098287   \n",
       "3                           0.4     CiteSeer   0.686669          0.064923   \n",
       "4                           0.5     CiteSeer   0.697229          0.052901   \n",
       "5                           0.6     CiteSeer   0.689328          0.041178   \n",
       "6                           0.7     CiteSeer   0.702198          0.034566   \n",
       "7                           0.8     CiteSeer   0.688983          0.011722   \n",
       "8                           0.9     CiteSeer   0.704274          0.003907   \n",
       "9                           1.0     CiteSeer   0.688679          0.000000   \n",
       "10                          0.1         Cora   0.796033          0.594165   \n",
       "11                          0.2         Cora   0.823954          0.460118   \n",
       "12                          0.3         Cora   0.808209          0.373708   \n",
       "13                          0.4         Cora   0.806478          0.301699   \n",
       "14                          0.5         Cora   0.827971          0.228582   \n",
       "15                          0.6         Cora   0.820822          0.178730   \n",
       "16                          0.7         Cora   0.812176          0.116322   \n",
       "17                          0.8         Cora   0.803254          0.068316   \n",
       "18                          0.9         Cora   0.760848          0.043944   \n",
       "19                          1.0         Cora   0.808320          0.000000   \n",
       "\n",
       "     Run Time  \n",
       "0    8.294717  \n",
       "1    7.524590  \n",
       "2    7.759296  \n",
       "3    8.604266  \n",
       "4    8.528849  \n",
       "5    7.801884  \n",
       "6    8.639177  \n",
       "7    9.725088  \n",
       "8   10.847659  \n",
       "9   14.996145  \n",
       "10  29.759501  \n",
       "11  17.836746  \n",
       "12   8.628441  \n",
       "13  11.015980  \n",
       "14   9.320797  \n",
       "15   9.837485  \n",
       "16   8.934880  \n",
       "17   8.990752  \n",
       "18  19.255955  \n",
       "19  11.363158  "
      ]
     },
     "execution_count": 2,
     "metadata": {},
     "output_type": "execute_result"
    }
   ],
   "source": [
    "Report = []\n",
    "for ds_name in ['CiteSeer', 'Cora']:#, 'PubMed', 'WikiCS']:\n",
    "    for mc in [x / 10.0 for x in range(1, 11)]:\n",
    "        %run src/main.py --dataset-name {ds_name} --clustering-overlap True\\\n",
    "        --clustering-method 'danmf' --epochs 10\\\n",
    "        --membership-closeness {mc}\n",
    "        Report.append(ds_report)\n",
    "        \n",
    "df = pd.DataFrame(Report, columns=['Winner Membership Closeness','Dataset Name',\\\n",
    "'F-1 Score', 'Overlapped Nodes','Run Time'])\n",
    "df"
   ]
  },
  {
   "cell_type": "code",
   "execution_count": 3,
   "metadata": {},
   "outputs": [
    {
     "name": "stderr",
     "output_type": "stream",
     "text": [
      "/home/mahmood/anaconda3/lib/python3.7/site-packages/xlsxwriter/workbook.py:329: UserWarning: Calling close() on already closed file.\n",
      "  warn(\"Calling close() on already closed file.\")\n"
     ]
    }
   ],
   "source": [
    "score_file_name = 'results/F1_score.xlsx'\n",
    "writer = ExcelWriter(score_file_name)\n",
    "df.to_excel(writer)#, sheet_name='All')  # , index=False)\n",
    "writer.save()        \n",
    "writer.close()"
   ]
  },
  {
   "cell_type": "code",
   "execution_count": 5,
   "metadata": {},
   "outputs": [
    {
     "data": {
      "image/png": "[encoded data removed]",
      "text/plain": [
       "<Figure size 720x288 with 1 Axes>"
      ]
     },
     "metadata": {
      "needs_background": "light"
     },
     "output_type": "display_data"
    }
   ],
   "source": [
    "score_file_name = 'results/F1_score.xlsx'\n",
    "df = pd.read_excel(score_file_name, engine=\"openpyxl\") \n",
    "fig = plt.figure(figsize=(10, 4))\n",
    "sns.lineplot(x=\"Winner Membership Closeness\", y=\"F-1 Score\",\n",
    "             hue=\"Dataset Name\",# style=\"min_freq\",\n",
    "             data=df)\n",
    "# png_file_name = 'results/{}.png'.format(args.dataset_name)\n",
    "score_png_file_name = 'results/F1_score.png'\n",
    "fig.savefig(score_png_file_name)"
   ]
  },
  {
   "cell_type": "code",
   "execution_count": 6,
   "metadata": {},
   "outputs": [
    {
     "data": {
      "image/png": "[encoded data removed]",
      "text/plain": [
       "<Figure size 432x288 with 1 Axes>"
      ]
     },
     "metadata": {
      "needs_background": "light"
     },
     "output_type": "display_data"
    }
   ],
   "source": [
    "sns.lineplot(x=\"Winner Membership Closeness\", y=\"Overlapped Nodes\",\n",
    "#              hue=\"dataset name\",# style=\"min_freq\",\n",
    "             data=df)\n",
    "ON_png_file_name = 'results/ON.png'\n",
    "fig.savefig(ON_png_file_name)"
   ]
  },
  {
   "cell_type": "code",
   "execution_count": 8,
   "metadata": {},
   "outputs": [
    {
     "data": {
      "image/png": "[encoded data removed]",
      "text/plain": [
       "<Figure size 432x288 with 1 Axes>"
      ]
     },
     "metadata": {
      "needs_background": "light"
     },
     "output_type": "display_data"
    }
   ],
   "source": [
    "sns.lineplot(x=\"Winner Membership Closeness\", y=\"Run Time\",\n",
    "             hue=\"Dataset Name\",# style=\"min_freq\",\n",
    "             data=df)\n",
    "RT_png_file_name = 'results/RT.png'\n",
    "fig.savefig(RT_png_file_name)"
   ]
  },
  {
   "cell_type": "code",
   "execution_count": null,
   "metadata": {},
   "outputs": [],
   "source": [
    "from google.colab import files\n",
    "files.download(score_file_name) \n",
    "# files.download(score_png_file_name) \n",
    "# files.download(ON_ong_file_name) \n",
    "# files.download(RT_ong_file_name) "
   ]
  }
 ],
 "metadata": {
  "kernelspec": {
   "display_name": "Python 3",
   "language": "python",
   "name": "python3"
  },
  "language_info": {
   "codemirror_mode": {
    "name": "ipython",
    "version": 3
   },
   "file_extension": ".py",
   "mimetype": "text/x-python",
   "name": "python",
   "nbconvert_exporter": "python",
   "pygments_lexer": "ipython3",
   "version": "3.7.6"
  }
 },
 "nbformat": 4,
 "nbformat_minor": 4
}

{
 "cells": [
  {
   "cell_type": "code",
   "execution_count": 1,
   "metadata": {},
   "outputs": [],
   "source": [
    "                                                                                                                                                                                                                                                                            import seaborn as sns\n",
    "                                                                                                                                                                                                                                                                            import matplotlib.pyplot as plt\n",
    "                                                                                                                                                                                                                                                                            import pandas as pd "
   ]
  },
  {
   "cell_type": "code",
   "execution_count": 2,
   "metadata": {},
   "outputs": [
    {
     "name": "stderr",
     "output_type": "stream",
     "text": [
      "Train Loss: 0.4527: 100%|██████████| 10/10 [00:01<00:00,  7.68it/s]\n",
      "Train Loss: 0.4073: 100%|██████████| 10/10 [00:01<00:00,  8.94it/s]\n",
      "Train Loss: 0.5881: 100%|██████████| 10/10 [00:01<00:00,  7.67it/s]\n",
      "Train Loss: 0.5046: 100%|██████████| 10/10 [00:01<00:00,  8.81it/s]\n",
      "Train Loss: 0.5057: 100%|██████████| 10/10 [00:01<00:00,  8.65it/s]\n",
      "Train Loss: 0.5803: 100%|██████████| 10/10 [00:01<00:00,  8.48it/s]\n",
      "Train Loss: 0.496: 100%|██████████| 10/10 [00:01<00:00,  8.47it/s]\n",
      "Train Loss: 0.4545: 100%|██████████| 10/10 [00:01<00:00,  8.40it/s]\n",
      "Train Loss: 0.4723: 100%|██████████| 10/10 [00:01<00:00,  7.48it/s]\n",
      "Train Loss: 0.4412: 100%|██████████| 10/10 [00:01<00:00,  8.82it/s]\n",
      "Train Loss: 0.5619: 100%|██████████| 10/10 [00:01<00:00,  7.82it/s]\n",
      "Train Loss: 0.4844: 100%|██████████| 10/10 [00:01<00:00,  7.47it/s]\n",
      "Train Loss: 0.6567: 100%|██████████| 10/10 [00:01<00:00,  8.40it/s]\n",
      "Train Loss: 0.5296: 100%|██████████| 10/10 [00:01<00:00,  8.63it/s]\n",
      "Train Loss: 0.5736: 100%|██████████| 10/10 [00:01<00:00,  8.41it/s]\n",
      "Train Loss: 0.4977: 100%|██████████| 10/10 [00:01<00:00,  6.83it/s]\n",
      "Train Loss: 0.5493: 100%|██████████| 10/10 [00:01<00:00,  8.75it/s]\n",
      "Train Loss: 0.7007: 100%|██████████| 10/10 [00:01<00:00,  9.55it/s]\n",
      "Train Loss: 0.8232: 100%|██████████| 10/10 [00:01<00:00,  8.91it/s]\n",
      "Train Loss: 0.4261: 100%|██████████| 10/10 [00:01<00:00,  9.30it/s]\n"
     ]
    },
    {
     "data": {
      "text/html": [
       "<div>\n",
       "<style scoped>\n",
       "    .dataframe tbody tr th:only-of-type {\n",
       "        vertical-align: middle;\n",
       "    }\n",
       "\n",
       "    .dataframe tbody tr th {\n",
       "        vertical-align: top;\n",
       "    }\n",
       "\n",
       "    .dataframe thead th {\n",
       "        text-align: right;\n",
       "    }\n",
       "</style>\n",
       "<table border=\"1\" class=\"dataframe\">\n",
       "  <thead>\n",
       "    <tr style=\"text-align: right;\">\n",
       "      <th></th>\n",
       "      <th>Winner Membership Closeness</th>\n",
       "      <th>Dataset Name</th>\n",
       "      <th>F-1 Score</th>\n",
       "      <th>Overlapped Nodes</th>\n",
       "      <th>Run Time</th>\n",
       "    </tr>\n",
       "  </thead>\n",
       "  <tbody>\n",
       "    <tr>\n",
       "      <th>0</th>\n",
       "      <td>0.1</td>\n",
       "      <td>CiteSeer</td>\n",
       "      <td>0.714240</td>\n",
       "      <td>0.329426</td>\n",
       "      <td>33.716805</td>\n",
       "    </tr>\n",
       "    <tr>\n",
       "      <th>1</th>\n",
       "      <td>0.2</td>\n",
       "      <td>CiteSeer</td>\n",
       "      <td>0.718153</td>\n",
       "      <td>0.232943</td>\n",
       "      <td>8.856720</td>\n",
       "    </tr>\n",
       "    <tr>\n",
       "      <th>2</th>\n",
       "      <td>0.3</td>\n",
       "      <td>CiteSeer</td>\n",
       "      <td>0.693338</td>\n",
       "      <td>0.182146</td>\n",
       "      <td>19.423826</td>\n",
       "    </tr>\n",
       "    <tr>\n",
       "      <th>3</th>\n",
       "      <td>0.4</td>\n",
       "      <td>CiteSeer</td>\n",
       "      <td>0.714885</td>\n",
       "      <td>0.120830</td>\n",
       "      <td>24.332541</td>\n",
       "    </tr>\n",
       "    <tr>\n",
       "      <th>4</th>\n",
       "      <td>0.5</td>\n",
       "      <td>CiteSeer</td>\n",
       "      <td>0.681729</td>\n",
       "      <td>0.088969</td>\n",
       "      <td>9.293727</td>\n",
       "    </tr>\n",
       "    <tr>\n",
       "      <th>5</th>\n",
       "      <td>0.6</td>\n",
       "      <td>CiteSeer</td>\n",
       "      <td>0.679435</td>\n",
       "      <td>0.061918</td>\n",
       "      <td>10.213900</td>\n",
       "    </tr>\n",
       "    <tr>\n",
       "      <th>6</th>\n",
       "      <td>0.7</td>\n",
       "      <td>CiteSeer</td>\n",
       "      <td>0.696042</td>\n",
       "      <td>0.048993</td>\n",
       "      <td>12.462969</td>\n",
       "    </tr>\n",
       "    <tr>\n",
       "      <th>7</th>\n",
       "      <td>0.8</td>\n",
       "      <td>CiteSeer</td>\n",
       "      <td>0.692436</td>\n",
       "      <td>0.030057</td>\n",
       "      <td>10.292103</td>\n",
       "    </tr>\n",
       "    <tr>\n",
       "      <th>8</th>\n",
       "      <td>0.9</td>\n",
       "      <td>CiteSeer</td>\n",
       "      <td>0.697811</td>\n",
       "      <td>0.016531</td>\n",
       "      <td>10.600356</td>\n",
       "    </tr>\n",
       "    <tr>\n",
       "      <th>9</th>\n",
       "      <td>1.0</td>\n",
       "      <td>CiteSeer</td>\n",
       "      <td>0.678220</td>\n",
       "      <td>0.000000</td>\n",
       "      <td>11.140316</td>\n",
       "    </tr>\n",
       "    <tr>\n",
       "      <th>10</th>\n",
       "      <td>0.1</td>\n",
       "      <td>Cora</td>\n",
       "      <td>0.783735</td>\n",
       "      <td>0.765879</td>\n",
       "      <td>11.099215</td>\n",
       "    </tr>\n",
       "    <tr>\n",
       "      <th>11</th>\n",
       "      <td>0.2</td>\n",
       "      <td>Cora</td>\n",
       "      <td>0.802559</td>\n",
       "      <td>0.519202</td>\n",
       "      <td>10.620029</td>\n",
       "    </tr>\n",
       "    <tr>\n",
       "      <th>12</th>\n",
       "      <td>0.3</td>\n",
       "      <td>Cora</td>\n",
       "      <td>0.752048</td>\n",
       "      <td>0.412482</td>\n",
       "      <td>10.659961</td>\n",
       "    </tr>\n",
       "    <tr>\n",
       "      <th>13</th>\n",
       "      <td>0.4</td>\n",
       "      <td>Cora</td>\n",
       "      <td>0.767321</td>\n",
       "      <td>0.312777</td>\n",
       "      <td>9.635603</td>\n",
       "    </tr>\n",
       "    <tr>\n",
       "      <th>14</th>\n",
       "      <td>0.5</td>\n",
       "      <td>Cora</td>\n",
       "      <td>0.758140</td>\n",
       "      <td>0.241507</td>\n",
       "      <td>8.759715</td>\n",
       "    </tr>\n",
       "    <tr>\n",
       "      <th>15</th>\n",
       "      <td>0.6</td>\n",
       "      <td>Cora</td>\n",
       "      <td>0.821445</td>\n",
       "      <td>0.170236</td>\n",
       "      <td>9.333774</td>\n",
       "    </tr>\n",
       "    <tr>\n",
       "      <th>16</th>\n",
       "      <td>0.7</td>\n",
       "      <td>Cora</td>\n",
       "      <td>0.772942</td>\n",
       "      <td>0.110044</td>\n",
       "      <td>8.780735</td>\n",
       "    </tr>\n",
       "    <tr>\n",
       "      <th>17</th>\n",
       "      <td>0.8</td>\n",
       "      <td>Cora</td>\n",
       "      <td>0.696209</td>\n",
       "      <td>0.065362</td>\n",
       "      <td>8.733509</td>\n",
       "    </tr>\n",
       "    <tr>\n",
       "      <th>18</th>\n",
       "      <td>0.9</td>\n",
       "      <td>Cora</td>\n",
       "      <td>0.720918</td>\n",
       "      <td>0.028804</td>\n",
       "      <td>10.349599</td>\n",
       "    </tr>\n",
       "    <tr>\n",
       "      <th>19</th>\n",
       "      <td>1.0</td>\n",
       "      <td>Cora</td>\n",
       "      <td>0.749213</td>\n",
       "      <td>0.000000</td>\n",
       "      <td>14.284384</td>\n",
       "    </tr>\n",
       "  </tbody>\n",
       "</table>\n",
       "</div>"
      ],
      "text/plain": [
       "    Winner Membership Closeness Dataset Name  F-1 Score  Overlapped Nodes  \\\n",
       "0                           0.1     CiteSeer   0.714240          0.329426   \n",
       "1                           0.2     CiteSeer   0.718153          0.232943   \n",
       "2                           0.3     CiteSeer   0.693338          0.182146   \n",
       "3                           0.4     CiteSeer   0.714885          0.120830   \n",
       "4                           0.5     CiteSeer   0.681729          0.088969   \n",
       "5                           0.6     CiteSeer   0.679435          0.061918   \n",
       "6                           0.7     CiteSeer   0.696042          0.048993   \n",
       "7                           0.8     CiteSeer   0.692436          0.030057   \n",
       "8                           0.9     CiteSeer   0.697811          0.016531   \n",
       "9                           1.0     CiteSeer   0.678220          0.000000   \n",
       "10                          0.1         Cora   0.783735          0.765879   \n",
       "11                          0.2         Cora   0.802559          0.519202   \n",
       "12                          0.3         Cora   0.752048          0.412482   \n",
       "13                          0.4         Cora   0.767321          0.312777   \n",
       "14                          0.5         Cora   0.758140          0.241507   \n",
       "15                          0.6         Cora   0.821445          0.170236   \n",
       "16                          0.7         Cora   0.772942          0.110044   \n",
       "17                          0.8         Cora   0.696209          0.065362   \n",
       "18                          0.9         Cora   0.720918          0.028804   \n",
       "19                          1.0         Cora   0.749213          0.000000   \n",
       "\n",
       "     Run Time  \n",
       "0   33.716805  \n",
       "1    8.856720  \n",
       "2   19.423826  \n",
       "3   24.332541  \n",
       "4    9.293727  \n",
       "5   10.213900  \n",
       "6   12.462969  \n",
       "7   10.292103  \n",
       "8   10.600356  \n",
       "9   11.140316  \n",
       "10  11.099215  \n",
       "11  10.620029  \n",
       "12  10.659961  \n",
       "13   9.635603  \n",
       "14   8.759715  \n",
       "15   9.333774  \n",
       "16   8.780735  \n",
       "17   8.733509  \n",
       "18  10.349599  \n",
       "19  14.284384  "
      ]
     },
     "execution_count": 2,
     "metadata": {},
     "output_type": "execute_result"
    }
   ],
   "source": [
    "Report = []\n",
    "for ds_name in ['CiteSeer', 'Cora']:#, 'PubMed', 'WikiCS']:\n",
    "    for mc in [x / 10.0 for x in range(1, 11)]:\n",
    "        %run src/main.py --dataset-name {ds_name} --clustering-overlap True\\\n",
    "        --clustering-method 'danmf' --epochs 10\\\n",
    "        --membership-closeness {mc}\n",
    "        Report.append(ds_report)\n",
    "        \n",
    "df = pd.DataFrame(Report, columns=['Winner Membership Closeness','Dataset Name',\\\n",
    "'F-1 Score', 'Overlapped Nodes','Run Time'])\n",
    "df"
   ]
  },
  {
   "cell_type": "code",
   "execution_count": 17,
   "metadata": {},
   "outputs": [
    {
     "name": "stderr",
     "output_type": "stream",
     "text": [
      "/home/mahmood/anaconda3/lib/python3.7/site-packages/xlsxwriter/workbook.py:329: UserWarning: Calling close() on already closed file.\n",
      "  warn(\"Calling close() on already closed file.\")\n"
     ]
    }
   ],
   "source": [
    "score_file_name = 'results/F1_score.xlsx'\n",
    "writer = ExcelWriter(score_file_name)\n",
    "df.to_excel(writer)#, sheet_name='All')  # , index=False)\n",
    "writer.save()        \n",
    "writer.close()"
   ]
  },
  {
   "cell_type": "code",
   "execution_count": 22,
   "metadata": {},
   "outputs": [
    {
     "data": {
      "image/png": "[encoded data removed]",
      "text/plain": [
       "<Figure size 720x288 with 1 Axes>"
      ]
     },
     "metadata": {
      "needs_background": "light"
     },
     "output_type": "display_data"
    }
   ],
   "source": [
    "score_file_name = 'results/F1_score_2x_colab.xlsx'\n",
    "df = pd.read_excel(score_file_name, engine=\"openpyxl\") \n",
    "fig = plt.figure(figsize=(10, 4))\n",
    "sns.lineplot(x=\"Winner Membership Closeness\", y=\"F-1 Score\",\n",
    "#              hue=\"Dataset Name\",# style=\"min_freq\",\n",
    "             data=df)\n",
    "# png_file_name = 'results/{}.png'.format(args.dataset_name)\n",
    "score_png_file_name = 'results/F1_score.png'\n",
    "fig.savefig(score_png_file_name)"
   ]
  },
  {
   "cell_type": "code",
   "execution_count": 25,
   "metadata": {},
   "outputs": [
    {
     "data": {
      "image/png": "[encoded data removed]",
      "text/plain": [
       "<Figure size 432x288 with 1 Axes>"
      ]
     },
     "metadata": {
      "needs_background": "light"
     },
     "output_type": "display_data"
    }
   ],
   "source": [
    "fig = plt.figure()#figsize=(10, 4))\n",
    "sns.lineplot(x=\"Winner Membership Closeness\", y=\"Overlapped Nodes\",\n",
    "#              hue=\"dataset name\",# style=\"min_freq\",\n",
    "             data=df)\n",
    "ON_png_file_name = 'results/ON.png'\n",
    "fig.savefig(ON_png_file_name)"
   ]
  },
  {
   "cell_type": "code",
   "execution_count": 26,
   "metadata": {},
   "outputs": [
    {
     "data": {
      "image/png": "[encoded data removed]",
      "text/plain": [
       "<Figure size 432x288 with 1 Axes>"
      ]
     },
     "metadata": {
      "needs_background": "light"
     },
     "output_type": "display_data"
    }
   ],
   "source": [
    "fig = plt.figure()#figsize=(10, 4))\n",
    "sns_plot = sns.lineplot(x=\"Winner Membership Closeness\", y=\"Run Time\",\n",
    "             hue=\"Dataset Name\",# style=\"min_freq\",\n",
    "             data=df)\n",
    "sns_plot.set(yscale=\"log\")\n",
    "RT_png_file_name = 'results/RT.png'\n",
    "fig.savefig(RT_png_file_name)"
   ]
  },
  {
   "cell_type": "code",
   "execution_count": 21,
   "metadata": {},
   "outputs": [],
   "source": [
    "# from google.colab import files\n",
    "# files.download(score_file_name) \n",
    "# files.download(score_png_file_name) \n",
    "# files.download(ON_ong_file_name) \n",
    "# files.download(RT_ong_file_name) "
   ]
  },
  {
   "cell_type": "code",
   "execution_count": 34,
   "metadata": {},
   "outputs": [
    {
     "name": "stdout",
     "output_type": "stream",
     "text": [
      "1433 2708 (2708, 1433)\n",
      "StackedGCN(\n",
      "  (layers): ListModule(\n",
      "    (0): GCNConv(1433, 16)\n",
      "    (1): GCNConv(16, 16)\n",
      "    (2): GCNConv(16, 16)\n",
      "    (3): GCNConv(16, 7)\n",
      "  )\n",
      ")\n",
      "[1, 2]\n"
     ]
    }
   ],
   "source": [
    "print(clustering_machine.feature_count,len(graph.nodes()),features.shape)\n",
    "print(gcn_trainer.model)\n",
    "x = [1, 2, 3]\n",
    "print(x[:-1])"
   ]
  }
 ],
 "metadata": {
  "kernelspec": {
   "display_name": "Python 3",
   "language": "python",
   "name": "python3"
  },
  "language_info": {
   "codemirror_mode": {
    "name": "ipython",
    "version": 3
   },
   "file_extension": ".py",
   "mimetype": "text/x-python",
   "name": "python",
   "nbconvert_exporter": "python",
   "pygments_lexer": "ipython3",
   "version": "3.7.6"
  }
 },
 "nbformat": 4,
 "nbformat_minor": 4
}

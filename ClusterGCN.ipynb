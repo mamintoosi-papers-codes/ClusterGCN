{
 "cells": [
  {
   "cell_type": "markdown",
   "metadata": {
    "id": "c7kOSf97BXZA"
   },
   "source": [
    "https://github.com/mamintoosi-papers-codes/ClusterGCN"
   ]
  },
  {
   "cell_type": "code",
   "execution_count": 1,
   "metadata": {
    "colab": {
     "base_uri": "https://localhost:8080/"
    },
    "executionInfo": {
     "elapsed": 11501,
     "status": "ok",
     "timestamp": 1628582209646,
     "user": {
      "displayName": "Mahmood Amintoosi",
      "photoUrl": "https://lh3.googleusercontent.com/a-/AOh14GiWZ48HqYJJmPdDTueTtb12dMDVlabGiGyYWEXTkA=s64",
      "userId": "06389092743998374259"
     },
     "user_tz": -270
    },
    "id": "ZT1qA9rBBkJP",
    "outputId": "459eefe8-0d5f-4ba3-e1cb-908be7091519"
   },
   "outputs": [
    {
     "name": "stdout",
     "output_type": "stream",
     "text": [
      "Reading package lists... Done\n",
      "Building dependency tree       \n",
      "Reading state information... Done\n",
      "The following additional packages will be installed:\n",
      "  libmetis5\n",
      "The following NEW packages will be installed:\n",
      "  libmetis-dev libmetis5\n",
      "0 upgraded, 2 newly installed, 0 to remove and 40 not upgraded.\n",
      "Need to get 175 kB of archives.\n",
      "After this operation, 494 kB of additional disk space will be used.\n",
      "Get:1 http://archive.ubuntu.com/ubuntu bionic/main amd64 libmetis5 amd64 5.1.0.dfsg-5 [169 kB]\n",
      "Get:2 http://archive.ubuntu.com/ubuntu bionic/main amd64 libmetis-dev amd64 5.1.0.dfsg-5 [5,794 B]\n",
      "Fetched 175 kB in 1s (214 kB/s)\n",
      "debconf: unable to initialize frontend: Dialog\n",
      "debconf: (No usable dialog-like program is installed, so the dialog based frontend cannot be used. at /usr/share/perl5/Debconf/FrontEnd/Dialog.pm line 76, <> line 2.)\n",
      "debconf: falling back to frontend: Readline\n",
      "debconf: unable to initialize frontend: Readline\n",
      "debconf: (This frontend requires a controlling tty.)\n",
      "debconf: falling back to frontend: Teletype\n",
      "dpkg-preconfigure: unable to re-open stdin: \n",
      "Selecting previously unselected package libmetis5:amd64.\n",
      "(Reading database ... 160837 files and directories currently installed.)\n",
      "Preparing to unpack .../libmetis5_5.1.0.dfsg-5_amd64.deb ...\n",
      "Unpacking libmetis5:amd64 (5.1.0.dfsg-5) ...\n",
      "Selecting previously unselected package libmetis-dev.\n",
      "Preparing to unpack .../libmetis-dev_5.1.0.dfsg-5_amd64.deb ...\n",
      "Unpacking libmetis-dev (5.1.0.dfsg-5) ...\n",
      "Setting up libmetis5:amd64 (5.1.0.dfsg-5) ...\n",
      "Setting up libmetis-dev (5.1.0.dfsg-5) ...\n",
      "Processing triggers for libc-bin (2.27-3ubuntu1.2) ...\n",
      "/sbin/ldconfig.real: /usr/local/lib/python3.7/dist-packages/ideep4py/lib/libmkldnn.so.0 is not a symbolic link\n",
      "\n"
     ]
    }
   ],
   "source": [
    "# !sudo apt-get install libmetis-dev\n",
    "# شاید لازم نباشه"
   ]
  },
  {
   "cell_type": "code",
   "execution_count": 2,
   "metadata": {
    "colab": {
     "base_uri": "https://localhost:8080/"
    },
    "executionInfo": {
     "elapsed": 15347,
     "status": "ok",
     "timestamp": 1628582224989,
     "user": {
      "displayName": "Mahmood Amintoosi",
      "photoUrl": "https://lh3.googleusercontent.com/a-/AOh14GiWZ48HqYJJmPdDTueTtb12dMDVlabGiGyYWEXTkA=s64",
      "userId": "06389092743998374259"
     },
     "user_tz": -270
    },
    "id": "5xgj1FAAC28m",
    "outputId": "18b860d2-331c-42b3-aab9-7f2a8220967c"
   },
   "outputs": [
    {
     "name": "stdout",
     "output_type": "stream",
     "text": [
      "\u001b[K     |████████████████████████████████| 3.0 MB 4.9 MB/s \n",
      "\u001b[K     |████████████████████████████████| 1.6 MB 4.7 MB/s \n",
      "\u001b[K     |████████████████████████████████| 222 kB 5.1 MB/s \n",
      "\u001b[K     |████████████████████████████████| 376 kB 9.0 MB/s \n",
      "\u001b[K     |████████████████████████████████| 45 kB 3.9 MB/s \n",
      "\u001b[?25h  Building wheel for torch-geometric (setup.py) ... \u001b[?25l\u001b[?25hdone\n",
      "Collecting metis\n",
      "  Downloading metis-0.2a5.tar.gz (10 kB)\n",
      "Building wheels for collected packages: metis\n",
      "  Building wheel for metis (setup.py) ... \u001b[?25l\u001b[?25hdone\n",
      "  Created wheel for metis: filename=metis-0.2a5-py3-none-any.whl size=11320 sha256=fd8c8a474ee9217e9cd5c50c7d6e472b666de580b4eadcf607fa8edb35ad4745\n",
      "  Stored in directory: /root/.cache/pip/wheels/ca/ab/74/299dc1abe24ce25ec377fce3b6c6820ad87821f3ca4b9f9714\n",
      "Successfully built metis\n",
      "Installing collected packages: metis\n",
      "Successfully installed metis-0.2a5\n"
     ]
    }
   ],
   "source": [
    "# Install required packages.\n",
    "!pip install -q torch-scatter -f https://pytorch-geometric.com/whl/torch-1.9.0+cu102.html\n",
    "!pip install -q torch-sparse -f https://pytorch-geometric.com/whl/torch-1.9.0+cu102.html\n",
    "# !pip install -q torch-scatter #-f https://pytorch-geometric.com/whl/torch-1.9.0+cu102.html\n",
    "# !pip install -q torch-sparse #-f https://pytorch-geometric.com/whl/torch-1.9.0+cu102.html\n",
    "!pip install -q torch-geometric\n",
    "!pip install metis\n",
    "!pip install texttable"
   ]
  },
  {
   "cell_type": "code",
   "execution_count": 3,
   "metadata": {
    "colab": {
     "base_uri": "https://localhost:8080/"
    },
    "executionInfo": {
     "elapsed": 2222,
     "status": "ok",
     "timestamp": 1628582227175,
     "user": {
      "displayName": "Mahmood Amintoosi",
      "photoUrl": "https://lh3.googleusercontent.com/a-/AOh14GiWZ48HqYJJmPdDTueTtb12dMDVlabGiGyYWEXTkA=s64",
      "userId": "06389092743998374259"
     },
     "user_tz": -270
    },
    "id": "IhXQ3I7XBV11",
    "outputId": "c34ab808-e9de-4153-db99-16ac9803e445"
   },
   "outputs": [
    {
     "name": "stdout",
     "output_type": "stream",
     "text": [
      "Cloning into 'ClusterGCN'...\n",
      "remote: Enumerating objects: 494, done.\u001b[K\n",
      "remote: Counting objects: 100% (58/58), done.\u001b[K\n",
      "remote: Compressing objects: 100% (56/56), done.\u001b[K\n",
      "remote: Total 494 (delta 34), reused 0 (delta 0), pack-reused 436\u001b[K\n",
      "Receiving objects: 100% (494/494), 14.22 MiB | 17.81 MiB/s, done.\n",
      "Resolving deltas: 100% (311/311), done.\n"
     ]
    }
   ],
   "source": [
    "!git clone https://github.com/mamintoosi-papers-codes/ClusterGCN.git"
   ]
  },
  {
   "cell_type": "code",
   "execution_count": 4,
   "metadata": {
    "colab": {
     "base_uri": "https://localhost:8080/"
    },
    "executionInfo": {
     "elapsed": 31,
     "status": "ok",
     "timestamp": 1628582227181,
     "user": {
      "displayName": "Mahmood Amintoosi",
      "photoUrl": "https://lh3.googleusercontent.com/a-/AOh14GiWZ48HqYJJmPdDTueTtb12dMDVlabGiGyYWEXTkA=s64",
      "userId": "06389092743998374259"
     },
     "user_tz": -270
    },
    "id": "W3gS6tEhCAa4",
    "outputId": "e5f1bdf7-91a6-4de9-d132-b499f1e7b73a"
   },
   "outputs": [
    {
     "name": "stdout",
     "output_type": "stream",
     "text": [
      "/content/ClusterGCN\n"
     ]
    }
   ],
   "source": [
    "%cd ClusterGCN/"
   ]
  },
  {
   "cell_type": "code",
   "execution_count": 2,
   "metadata": {
    "colab": {
     "base_uri": "https://localhost:8080/"
    },
    "executionInfo": {
     "elapsed": 55830,
     "status": "ok",
     "timestamp": 1628582331988,
     "user": {
      "displayName": "Mahmood Amintoosi",
      "photoUrl": "https://lh3.googleusercontent.com/a-/AOh14GiWZ48HqYJJmPdDTueTtb12dMDVlabGiGyYWEXTkA=s64",
      "userId": "06389092743998374259"
     },
     "user_tz": -270
    },
    "id": "yR_whwo8BrGN",
    "outputId": "7793cf19-65c4-4b01-cbc0-ab0019b07d25"
   },
   "outputs": [
    {
     "name": "stdout",
     "output_type": "stream",
     "text": [
      "The autoreload extension is already loaded. To reload it, use:\n",
      "  %reload_ext autoreload\n",
      "+-------------------+----------------------+\n",
      "|     Parameter     |        Value         |\n",
      "+===================+======================+\n",
      "| Cluster number    | 10                   |\n",
      "+-------------------+----------------------+\n",
      "| Clustering method | graph                |\n",
      "+-------------------+----------------------+\n",
      "| Dropout           | 0.500                |\n",
      "+-------------------+----------------------+\n",
      "| Edge path         | ./input/edges.csv    |\n",
      "+-------------------+----------------------+\n",
      "| Epochs            | 50                   |\n",
      "+-------------------+----------------------+\n",
      "| Features path     | ./input/features.csv |\n",
      "+-------------------+----------------------+\n",
      "| Layers            | [16, 16, 16]         |\n",
      "+-------------------+----------------------+\n",
      "| Learning rate     | 0.010                |\n",
      "+-------------------+----------------------+\n",
      "| Seed              | 42                   |\n",
      "+-------------------+----------------------+\n",
      "| Target path       | ./input/target.csv   |\n",
      "+-------------------+----------------------+\n",
      "| Test ratio        | 0.700                |\n",
      "+-------------------+----------------------+\n",
      "\n",
      "graph clustering started.\n",
      "\n"
     ]
    },
    {
     "ename": "ZeroDivisionError",
     "evalue": "float division by zero",
     "output_type": "error",
     "traceback": [
      "\u001b[0;31m---------------------------------------------------------------------------\u001b[0m",
      "\u001b[0;31mZeroDivisionError\u001b[0m                         Traceback (most recent call last)",
      "\u001b[0;32m/mnt/c/temp/git/ClusterGCN/src/main.py\u001b[0m in \u001b[0;36m<module>\u001b[0;34m\u001b[0m\n\u001b[1;32m     22\u001b[0m \u001b[0;34m\u001b[0m\u001b[0m\n\u001b[1;32m     23\u001b[0m \u001b[0;32mif\u001b[0m \u001b[0m__name__\u001b[0m \u001b[0;34m==\u001b[0m \u001b[0;34m\"__main__\"\u001b[0m\u001b[0;34m:\u001b[0m\u001b[0;34m\u001b[0m\u001b[0;34m\u001b[0m\u001b[0m\n\u001b[0;32m---> 24\u001b[0;31m     \u001b[0mmain\u001b[0m\u001b[0;34m(\u001b[0m\u001b[0;34m)\u001b[0m\u001b[0;34m\u001b[0m\u001b[0;34m\u001b[0m\u001b[0m\n\u001b[0m",
      "\u001b[0;32m/mnt/c/temp/git/ClusterGCN/src/main.py\u001b[0m in \u001b[0;36mmain\u001b[0;34m()\u001b[0m\n\u001b[1;32m     16\u001b[0m     \u001b[0mtarget\u001b[0m \u001b[0;34m=\u001b[0m \u001b[0mtarget_reader\u001b[0m\u001b[0;34m(\u001b[0m\u001b[0margs\u001b[0m\u001b[0;34m.\u001b[0m\u001b[0mtarget_path\u001b[0m\u001b[0;34m)\u001b[0m\u001b[0;34m\u001b[0m\u001b[0;34m\u001b[0m\u001b[0m\n\u001b[1;32m     17\u001b[0m     \u001b[0mclustering_machine\u001b[0m \u001b[0;34m=\u001b[0m \u001b[0mClusteringMachine\u001b[0m\u001b[0;34m(\u001b[0m\u001b[0margs\u001b[0m\u001b[0;34m,\u001b[0m \u001b[0mgraph\u001b[0m\u001b[0;34m,\u001b[0m \u001b[0mfeatures\u001b[0m\u001b[0;34m,\u001b[0m \u001b[0mtarget\u001b[0m\u001b[0;34m)\u001b[0m\u001b[0;34m\u001b[0m\u001b[0;34m\u001b[0m\u001b[0m\n\u001b[0;32m---> 18\u001b[0;31m     \u001b[0mclustering_machine\u001b[0m\u001b[0;34m.\u001b[0m\u001b[0mdecompose\u001b[0m\u001b[0;34m(\u001b[0m\u001b[0;34m)\u001b[0m\u001b[0;34m\u001b[0m\u001b[0;34m\u001b[0m\u001b[0m\n\u001b[0m\u001b[1;32m     19\u001b[0m     \u001b[0mgcn_trainer\u001b[0m \u001b[0;34m=\u001b[0m \u001b[0mClusterGCNTrainer\u001b[0m\u001b[0;34m(\u001b[0m\u001b[0margs\u001b[0m\u001b[0;34m,\u001b[0m \u001b[0mclustering_machine\u001b[0m\u001b[0;34m)\u001b[0m\u001b[0;34m\u001b[0m\u001b[0;34m\u001b[0m\u001b[0m\n\u001b[1;32m     20\u001b[0m     \u001b[0mgcn_trainer\u001b[0m\u001b[0;34m.\u001b[0m\u001b[0mtrain\u001b[0m\u001b[0;34m(\u001b[0m\u001b[0;34m)\u001b[0m\u001b[0;34m\u001b[0m\u001b[0;34m\u001b[0m\u001b[0m\n",
      "\u001b[0;32m/mnt/c/temp/git/ClusterGCN/src/clustering.py\u001b[0m in \u001b[0;36mdecompose\u001b[0;34m(self)\u001b[0m\n\u001b[1;32m     43\u001b[0m         \u001b[0;32melif\u001b[0m \u001b[0mself\u001b[0m\u001b[0;34m.\u001b[0m\u001b[0margs\u001b[0m\u001b[0;34m.\u001b[0m\u001b[0mclustering_method\u001b[0m \u001b[0;34m==\u001b[0m \u001b[0;34m\"graph\"\u001b[0m\u001b[0;34m:\u001b[0m\u001b[0;34m\u001b[0m\u001b[0;34m\u001b[0m\u001b[0m\n\u001b[1;32m     44\u001b[0m             \u001b[0mprint\u001b[0m\u001b[0;34m(\u001b[0m\u001b[0;34m\"\\ngraph clustering started.\\n\"\u001b[0m\u001b[0;34m)\u001b[0m\u001b[0;34m\u001b[0m\u001b[0;34m\u001b[0m\u001b[0m\n\u001b[0;32m---> 45\u001b[0;31m             \u001b[0mself\u001b[0m\u001b[0;34m.\u001b[0m\u001b[0mgraph_clustering\u001b[0m\u001b[0;34m(\u001b[0m\u001b[0;34m)\u001b[0m\u001b[0;34m\u001b[0m\u001b[0;34m\u001b[0m\u001b[0m\n\u001b[0m\u001b[1;32m     46\u001b[0m         \u001b[0mself\u001b[0m\u001b[0;34m.\u001b[0m\u001b[0mgeneral_data_partitioning\u001b[0m\u001b[0;34m(\u001b[0m\u001b[0;34m)\u001b[0m\u001b[0;34m\u001b[0m\u001b[0;34m\u001b[0m\u001b[0m\n\u001b[1;32m     47\u001b[0m         \u001b[0mself\u001b[0m\u001b[0;34m.\u001b[0m\u001b[0mtransfer_edges_and_nodes\u001b[0m\u001b[0;34m(\u001b[0m\u001b[0;34m)\u001b[0m\u001b[0;34m\u001b[0m\u001b[0;34m\u001b[0m\u001b[0m\n",
      "\u001b[0;32m/mnt/c/temp/git/ClusterGCN/src/clustering.py\u001b[0m in \u001b[0;36mgraph_clustering\u001b[0;34m(self)\u001b[0m\n\u001b[1;32m     74\u001b[0m         \u001b[0;31m# coms = algorithms.umstmo(G)\u001b[0m\u001b[0;34m\u001b[0m\u001b[0;34m\u001b[0m\u001b[0;34m\u001b[0m\u001b[0m\n\u001b[1;32m     75\u001b[0m         \u001b[0;31m# coms = algorithms.principled_clustering(self.graph, cluster_count=self.args.cluster_number)\u001b[0m\u001b[0;34m\u001b[0m\u001b[0;34m\u001b[0m\u001b[0;34m\u001b[0m\u001b[0m\n\u001b[0;32m---> 76\u001b[0;31m         \u001b[0mcoms\u001b[0m \u001b[0;34m=\u001b[0m \u001b[0malgorithms\u001b[0m\u001b[0;34m.\u001b[0m\u001b[0mem\u001b[0m\u001b[0;34m(\u001b[0m\u001b[0mself\u001b[0m\u001b[0;34m.\u001b[0m\u001b[0mgraph\u001b[0m\u001b[0;34m,\u001b[0m \u001b[0mk\u001b[0m\u001b[0;34m=\u001b[0m\u001b[0mself\u001b[0m\u001b[0;34m.\u001b[0m\u001b[0margs\u001b[0m\u001b[0;34m.\u001b[0m\u001b[0mcluster_number\u001b[0m\u001b[0;34m)\u001b[0m\u001b[0;34m\u001b[0m\u001b[0;34m\u001b[0m\u001b[0m\n\u001b[0m\u001b[1;32m     77\u001b[0m \u001b[0;34m\u001b[0m\u001b[0m\n\u001b[1;32m     78\u001b[0m         \u001b[0mcount\u001b[0m \u001b[0;34m=\u001b[0m \u001b[0msum\u001b[0m\u001b[0;34m(\u001b[0m \u001b[0;34m[\u001b[0m \u001b[0mlen\u001b[0m\u001b[0;34m(\u001b[0m\u001b[0mlistElem\u001b[0m\u001b[0;34m)\u001b[0m \u001b[0;32mfor\u001b[0m \u001b[0mlistElem\u001b[0m \u001b[0;32min\u001b[0m \u001b[0mcoms\u001b[0m\u001b[0;34m.\u001b[0m\u001b[0mcommunities\u001b[0m\u001b[0;34m]\u001b[0m\u001b[0;34m)\u001b[0m\u001b[0;34m\u001b[0m\u001b[0;34m\u001b[0m\u001b[0m\n",
      "\u001b[0;32m~/anaconda3/lib/python3.7/site-packages/cdlib/algorithms/crisp_partition.py\u001b[0m in \u001b[0;36mem\u001b[0;34m(g_original, k)\u001b[0m\n\u001b[1;32m    212\u001b[0m \u001b[0;34m\u001b[0m\u001b[0m\n\u001b[1;32m    213\u001b[0m     \u001b[0malgorithm\u001b[0m \u001b[0;34m=\u001b[0m \u001b[0mEM_nx\u001b[0m\u001b[0;34m(\u001b[0m\u001b[0mg\u001b[0m\u001b[0;34m,\u001b[0m \u001b[0mk\u001b[0m\u001b[0;34m)\u001b[0m\u001b[0;34m\u001b[0m\u001b[0;34m\u001b[0m\u001b[0m\n\u001b[0;32m--> 214\u001b[0;31m     \u001b[0mcoms\u001b[0m \u001b[0;34m=\u001b[0m \u001b[0malgorithm\u001b[0m\u001b[0;34m.\u001b[0m\u001b[0mexecute\u001b[0m\u001b[0;34m(\u001b[0m\u001b[0;34m)\u001b[0m\u001b[0;34m\u001b[0m\u001b[0;34m\u001b[0m\u001b[0m\n\u001b[0m\u001b[1;32m    215\u001b[0m \u001b[0;34m\u001b[0m\u001b[0m\n\u001b[1;32m    216\u001b[0m     \u001b[0;32mif\u001b[0m \u001b[0mmaps\u001b[0m \u001b[0;32mis\u001b[0m \u001b[0;32mnot\u001b[0m \u001b[0;32mNone\u001b[0m\u001b[0;34m:\u001b[0m\u001b[0;34m\u001b[0m\u001b[0;34m\u001b[0m\u001b[0m\n",
      "\u001b[0;32m~/anaconda3/lib/python3.7/site-packages/cdlib/algorithms/internal/em.py\u001b[0m in \u001b[0;36mexecute\u001b[0;34m(self)\u001b[0m\n\u001b[1;32m     61\u001b[0m             \u001b[0mq\u001b[0m \u001b[0;34m=\u001b[0m \u001b[0;34m[\u001b[0m\u001b[0;34m]\u001b[0m\u001b[0;34m\u001b[0m\u001b[0;34m\u001b[0m\u001b[0m\n\u001b[1;32m     62\u001b[0m             \u001b[0;31m# E-step\u001b[0m\u001b[0;34m\u001b[0m\u001b[0;34m\u001b[0m\u001b[0;34m\u001b[0m\u001b[0m\n\u001b[0;32m---> 63\u001b[0;31m             \u001b[0mself\u001b[0m\u001b[0;34m.\u001b[0m\u001b[0me_step\u001b[0m\u001b[0;34m(\u001b[0m\u001b[0mq\u001b[0m\u001b[0;34m)\u001b[0m\u001b[0;34m\u001b[0m\u001b[0;34m\u001b[0m\u001b[0m\n\u001b[0m\u001b[1;32m     64\u001b[0m             \u001b[0;31m# M-step\u001b[0m\u001b[0;34m\u001b[0m\u001b[0;34m\u001b[0m\u001b[0;34m\u001b[0m\u001b[0m\n\u001b[1;32m     65\u001b[0m             \u001b[0mself\u001b[0m\u001b[0;34m.\u001b[0m\u001b[0mm_step\u001b[0m\u001b[0;34m(\u001b[0m\u001b[0mq\u001b[0m\u001b[0;34m)\u001b[0m\u001b[0;34m\u001b[0m\u001b[0;34m\u001b[0m\u001b[0m\n",
      "\u001b[0;32m~/anaconda3/lib/python3.7/site-packages/cdlib/algorithms/internal/em.py\u001b[0m in \u001b[0;36me_step\u001b[0;34m(self, q)\u001b[0m\n\u001b[1;32m     29\u001b[0m                 \u001b[0mnorm\u001b[0m \u001b[0;34m+=\u001b[0m \u001b[0mx\u001b[0m\u001b[0;34m\u001b[0m\u001b[0;34m\u001b[0m\u001b[0m\n\u001b[1;32m     30\u001b[0m             \u001b[0;32mfor\u001b[0m \u001b[0mg\u001b[0m \u001b[0;32min\u001b[0m \u001b[0mrange\u001b[0m\u001b[0;34m(\u001b[0m\u001b[0mself\u001b[0m\u001b[0;34m.\u001b[0m\u001b[0mk\u001b[0m\u001b[0;34m)\u001b[0m\u001b[0;34m:\u001b[0m\u001b[0;34m\u001b[0m\u001b[0;34m\u001b[0m\u001b[0m\n\u001b[0;32m---> 31\u001b[0;31m                 \u001b[0mq\u001b[0m\u001b[0;34m[\u001b[0m\u001b[0mi\u001b[0m\u001b[0;34m]\u001b[0m\u001b[0;34m[\u001b[0m\u001b[0mg\u001b[0m\u001b[0;34m]\u001b[0m \u001b[0;34m/=\u001b[0m \u001b[0mnorm\u001b[0m\u001b[0;34m\u001b[0m\u001b[0;34m\u001b[0m\u001b[0m\n\u001b[0m\u001b[1;32m     32\u001b[0m \u001b[0;34m\u001b[0m\u001b[0m\n\u001b[1;32m     33\u001b[0m     \u001b[0;32mdef\u001b[0m \u001b[0mm_step\u001b[0m\u001b[0;34m(\u001b[0m\u001b[0mself\u001b[0m\u001b[0;34m,\u001b[0m \u001b[0mq\u001b[0m\u001b[0;34m)\u001b[0m\u001b[0;34m:\u001b[0m\u001b[0;34m\u001b[0m\u001b[0;34m\u001b[0m\u001b[0m\n",
      "\u001b[0;31mZeroDivisionError\u001b[0m: float division by zero"
     ]
    }
   ],
   "source": [
    "%load_ext autoreload\n",
    "%autoreload 2\n",
    "%run src/main.py --clustering-method 'graph'"
   ]
  },
  {
   "cell_type": "code",
   "execution_count": 4,
   "metadata": {
    "colab": {
     "base_uri": "https://localhost:8080/"
    },
    "executionInfo": {
     "elapsed": 3066,
     "status": "ok",
     "timestamp": 1628582264517,
     "user": {
      "displayName": "Mahmood Amintoosi",
      "photoUrl": "https://lh3.googleusercontent.com/a-/AOh14GiWZ48HqYJJmPdDTueTtb12dMDVlabGiGyYWEXTkA=s64",
      "userId": "06389092743998374259"
     },
     "user_tz": -270
    },
    "id": "nsB2f970CDk4",
    "outputId": "14ad80a9-d2c9-4a21-e0c1-3b81d0b35c4e"
   },
   "outputs": [],
   "source": [
    "import networkx as nx\n",
    "from karateclub import DeepWalk\n",
    "\n",
    "g = nx.newman_watts_strogatz_graph(100, 20, 0.05)\n",
    "\n",
    "model = DeepWalk()\n",
    "model.fit(g)\n",
    "embedding = model.get_embedding()"
   ]
  },
  {
   "cell_type": "code",
   "execution_count": 8,
   "metadata": {},
   "outputs": [
    {
     "name": "stdout",
     "output_type": "stream",
     "text": [
      "{0: [4], 1: [4], 2: [4], 3: [4], 4: [4], 5: [4], 6: [4], 7: [4], 8: [4], 9: [4], 10: [4], 11: [4], 12: [4], 13: [4], 14: [4], 15: [4], 16: [4], 17: [4], 18: [4], 19: [4], 20: [4], 21: [4], 22: [4], 23: [4], 24: [4], 25: [4], 26: [4], 27: [4], 28: [4], 29: [4], 30: [4], 31: [4], 32: [4], 33: [4], 34: [4], 35: [4], 36: [4], 37: [4], 38: [4], 39: [4], 40: [4], 41: [4], 42: [4], 43: [4], 44: [4], 45: [4], 46: [4], 47: [4], 48: [4], 49: [4], 50: [4], 51: [4], 52: [4], 53: [4], 54: [4], 55: [4], 56: [4], 57: [4], 58: [4], 59: [4], 60: [2], 61: [2], 62: [2], 63: [2], 64: [2], 65: [2], 66: [2], 67: [2], 68: [2], 69: [2], 70: [2], 71: [2], 72: [2], 73: [2], 74: [2], 75: [2], 76: [2], 77: [2], 78: [2], 79: [2], 80: [2], 81: [2], 82: [2], 83: [2], 84: [2], 85: [2], 86: [2], 87: [2], 88: [2], 89: [2], 90: [2], 91: [2], 92: [2], 93: [2], 94: [2], 95: [2], 96: [2], 97: [2], 98: [2], 99: [2], 100: [2], 101: [2], 102: [2], 103: [2], 104: [2], 105: [2], 106: [2], 107: [2], 108: [2], 109: [2], 110: [2], 111: [2], 112: [2], 113: [2], 114: [13], 115: [13], 116: [13], 117: [13], 118: [13], 119: [13], 120: [13], 121: [13], 122: [13], 123: [13], 124: [13], 125: [13], 126: [13], 127: [13], 128: [13], 129: [13], 130: [13], 131: [13], 132: [13], 133: [13], 134: [13], 135: [13], 136: [13], 137: [13], 138: [13], 139: [13], 140: [13], 141: [13], 142: [13], 143: [13], 144: [13], 145: [13], 146: [13], 147: [13], 148: [13], 149: [13], 150: [13], 151: [13], 152: [13], 153: [13], 154: [13], 155: [13], 156: [13], 157: [13], 158: [13], 159: [13], 160: [13], 161: [13], 162: [13], 163: [13], 164: [13], 165: [13], 166: [13], 167: [13], 168: [13], 169: [13], 170: [13], 171: [13], 172: [13], 173: [13], 174: [13], 175: [13], 176: [13], 177: [13], 178: [13], 179: [13], 180: [13], 181: [13], 182: [13], 183: [13], 184: [13], 185: [13], 186: [3], 187: [3], 188: [3], 189: [3], 190: [3], 191: [3], 192: [3], 193: [3], 194: [3], 195: [3], 196: [3], 197: [3], 198: [3], 199: [3], 200: [3], 201: [3], 202: [3], 203: [3], 204: [3], 205: [3], 206: [3], 207: [3], 208: [3], 209: [3], 210: [3], 211: [3], 212: [3], 213: [3], 214: [3], 215: [3], 216: [3], 217: [3], 218: [3], 219: [3], 220: [3], 221: [3], 222: [3], 223: [3], 224: [3], 225: [3], 226: [3], 227: [3], 228: [3], 229: [3], 230: [3], 231: [3], 232: [3], 233: [3], 234: [3], 235: [3], 236: [3], 237: [3], 238: [3], 239: [10], 240: [10], 241: [10], 242: [10], 243: [10], 244: [10], 245: [10], 246: [10], 247: [10], 248: [10], 249: [10], 250: [10], 251: [10], 252: [10], 253: [10], 254: [10], 255: [10], 256: [10], 257: [10], 258: [10], 259: [10], 260: [10], 261: [10], 262: [10], 263: [10], 264: [10], 265: [10], 266: [10], 267: [10], 268: [10], 269: [10], 270: [10], 271: [10], 272: [10], 273: [10], 274: [10], 275: [10], 276: [10], 277: [10], 278: [10], 279: [10], 280: [10], 281: [10], 282: [10], 283: [10], 284: [10], 285: [10], 286: [10], 287: [10], 288: [10], 289: [10], 290: [10], 291: [10], 292: [10], 293: [10], 294: [10], 295: [10], 296: [10], 297: [10], 298: [10], 299: [10], 300: [10], 301: [10], 302: [10], 303: [10], 304: [10], 305: [10], 306: [10], 307: [10], 308: [1], 309: [1], 310: [1], 311: [1], 312: [1], 313: [1], 314: [1], 315: [1], 316: [1], 317: [1], 318: [1], 319: [1], 320: [1], 321: [1], 322: [1], 323: [1], 324: [1], 325: [1], 326: [1], 327: [1], 328: [1], 329: [1], 330: [1], 331: [1], 332: [1], 333: [1], 334: [1], 335: [1], 336: [1], 337: [1], 338: [1], 339: [1], 340: [1], 341: [1], 342: [1], 343: [1], 344: [1], 345: [1], 346: [1], 347: [1], 348: [1], 349: [1], 350: [1], 351: [1], 352: [1], 353: [1], 354: [1], 355: [1], 356: [1], 357: [1], 358: [1], 359: [1], 360: [1], 361: [1], 362: [1], 363: [1], 364: [1], 365: [1], 366: [1], 367: [1], 368: [1], 369: [1], 370: [1], 371: [1], 372: [1], 373: [1], 374: [1], 375: [1], 376: [1], 377: [1], 378: [1], 379: [1], 380: [1], 381: [5], 382: [5], 383: [5], 384: [5], 385: [5], 386: [5], 387: [5], 388: [5], 389: [5], 390: [5], 391: [5], 392: [5], 393: [5], 394: [5], 395: [5], 396: [5], 397: [5], 398: [5], 399: [5], 400: [5], 401: [5], 402: [5], 403: [5], 404: [5], 405: [5], 406: [5], 407: [5], 408: [5], 409: [5], 410: [5], 411: [5], 412: [5], 413: [5], 414: [5], 415: [5], 416: [5], 417: [5], 418: [5], 419: [5], 420: [5], 421: [5], 422: [5], 423: [5], 424: [5], 425: [5], 426: [5], 427: [5], 428: [5], 429: [5], 430: [5], 431: [5], 432: [5], 433: [5], 434: [5], 435: [5], 436: [5], 437: [5], 438: [5], 439: [5], 440: [5], 441: [5], 442: [5], 443: [5], 444: [5], 445: [5], 446: [5], 447: [5], 448: [5], 449: [5], 450: [5], 451: [5], 452: [5], 453: [5], 454: [5], 455: [5], 456: [5], 457: [5], 458: [5], 459: [6], 460: [6], 461: [6], 462: [6], 463: [6], 464: [6], 465: [6], 466: [6], 467: [6], 468: [6], 469: [6], 470: [6], 471: [6], 472: [6], 473: [6], 474: [6], 475: [6], 476: [6], 477: [6], 478: [6], 479: [6], 480: [6], 481: [6], 482: [6], 483: [6], 484: [6], 485: [6], 486: [6], 487: [6], 488: [6], 489: [6], 490: [6], 491: [6], 492: [6], 493: [6], 494: [6], 495: [6], 496: [6], 497: [6], 498: [6], 499: [6], 500: [6], 501: [6], 502: [6], 503: [6], 504: [6], 505: [6], 506: [6], 507: [6], 508: [6], 509: [6], 510: [6], 511: [6], 512: [6], 513: [6], 514: [6], 515: [6], 516: [6], 517: [6], 518: [6], 519: [6], 520: [7], 521: [7], 522: [7], 523: [7], 524: [7], 525: [7], 526: [7], 527: [7], 528: [7], 529: [7], 530: [7], 531: [7], 532: [7], 533: [7], 534: [7], 535: [7], 536: [7], 537: [7], 538: [7], 539: [7], 540: [7], 541: [7], 542: [7], 543: [7], 544: [7], 545: [7], 546: [7], 547: [7], 548: [7], 549: [7], 550: [7], 551: [7], 552: [7], 553: [7], 554: [7], 555: [7], 556: [7], 557: [7], 558: [7], 559: [7], 560: [7], 561: [7], 562: [7], 563: [7], 564: [7], 565: [7], 566: [7], 567: [7], 568: [7], 569: [7], 570: [7], 571: [7], 572: [7], 573: [7], 574: [7], 575: [7], 576: [7], 577: [7], 578: [7], 579: [7], 580: [7], 581: [7], 582: [7], 583: [7], 584: [7], 585: [7], 586: [7], 587: [7], 588: [7], 589: [7], 590: [7], 591: [7], 592: [7], 593: [7], 594: [7], 595: [7], 596: [7], 597: [7], 598: [7], 599: [7], 600: [7], 601: [7], 602: [7], 603: [7], 604: [7], 605: [7], 606: [7], 607: [7], 608: [7], 609: [7], 610: [7], 611: [7], 612: [7], 613: [7], 614: [7], 615: [7], 616: [7], 617: [7], 618: [7], 619: [11], 620: [11], 621: [11], 622: [11], 623: [11], 624: [11], 625: [11], 626: [11], 627: [11], 628: [11], 629: [11], 630: [11], 631: [11], 632: [11], 633: [11], 634: [11], 635: [11], 636: [11], 637: [11], 638: [11], 639: [11], 640: [11], 641: [11], 642: [11], 643: [11], 644: [11], 645: [11], 646: [11], 647: [11], 648: [11], 649: [11], 650: [11], 651: [11], 652: [11], 653: [11], 654: [11], 655: [11], 656: [11], 657: [11], 658: [11], 659: [11], 660: [11], 661: [11], 662: [11], 663: [11], 664: [11], 665: [11], 666: [11], 667: [11], 668: [11], 669: [11], 670: [11], 671: [11], 672: [11], 673: [11], 674: [11], 675: [11], 676: [11], 677: [11], 678: [11], 679: [11], 680: [11], 681: [11], 682: [11], 683: [11], 684: [11], 685: [11], 686: [11], 687: [11], 688: [11], 689: [11], 690: [11], 691: [11], 692: [11], 693: [11], 694: [11], 695: [11], 696: [11], 697: [11], 698: [8], 699: [8], 700: [8], 701: [8], 702: [8], 703: [8], 704: [8], 705: [8], 706: [8], 707: [8], 708: [8], 709: [8], 710: [8], 711: [8], 712: [8], 713: [8], 714: [8], 715: [8], 716: [8], 717: [8], 718: [8], 719: [8], 720: [8], 721: [8], 722: [8], 723: [8], 724: [8], 725: [8], 726: [8], 727: [8], 728: [8], 729: [8], 730: [8], 731: [8], 732: [8], 733: [8], 734: [8], 735: [8], 736: [8], 737: [8], 738: [8], 739: [8], 740: [8], 741: [8], 742: [8], 743: [8], 744: [8], 745: [8], 746: [8], 747: [8], 748: [8], 749: [8], 750: [8], 751: [8], 752: [8], 753: [8], 754: [8], 755: [8], 756: [8], 757: [8], 758: [8], 759: [8], 760: [8], 761: [8], 762: [8], 763: [8], 764: [8], 765: [8], 766: [8], 767: [8], 768: [8], 769: [8], 770: [8], 771: [8], 772: [8], 773: [8], 774: [8], 775: [9], 776: [9], 777: [9], 778: [9], 779: [9], 780: [9], 781: [9], 782: [9], 783: [9], 784: [9], 785: [9], 786: [9], 787: [9], 788: [9], 789: [9], 790: [9], 791: [9], 792: [9], 793: [9], 794: [9], 795: [9], 796: [9], 797: [9], 798: [9], 799: [9], 800: [9], 801: [9], 802: [9], 803: [9], 804: [9], 805: [9], 806: [9], 807: [9], 808: [9], 809: [9], 810: [9], 811: [9], 812: [9], 813: [9], 814: [9], 815: [9], 816: [9], 817: [9], 818: [9], 819: [9], 820: [9], 821: [9], 822: [9], 823: [9], 824: [9], 825: [9], 826: [9], 827: [9], 828: [9], 829: [9], 830: [9], 831: [9], 832: [9], 833: [9], 834: [9], 835: [9], 836: [9], 837: [9], 838: [9], 839: [9], 840: [9], 841: [9], 842: [9], 843: [9], 844: [9], 845: [9], 846: [9], 847: [9], 848: [9], 849: [12], 850: [12], 851: [12], 852: [12], 853: [12], 854: [12], 855: [12], 856: [12], 857: [12], 858: [12], 859: [12], 860: [12], 861: [12], 862: [12], 863: [12], 864: [12], 865: [12], 866: [12], 867: [12], 868: [12], 869: [12], 870: [12], 871: [12], 872: [12], 873: [12], 874: [12], 875: [12], 876: [12], 877: [12], 878: [12], 879: [12], 880: [12], 881: [12], 882: [12], 883: [12], 884: [12], 885: [12], 886: [12], 887: [12], 888: [12], 889: [12], 890: [12], 891: [12], 892: [12], 893: [12], 894: [12], 895: [12], 896: [12], 897: [12], 898: [12], 899: [12], 900: [12], 901: [12], 902: [12], 903: [12], 904: [0], 905: [0], 906: [0], 907: [0], 908: [0], 909: [0], 910: [0], 911: [0], 912: [0], 913: [0], 914: [0], 915: [0], 916: [0], 917: [0], 918: [0], 919: [0], 920: [0], 921: [0], 922: [0], 923: [0], 924: [0], 925: [0], 926: [0], 927: [0], 928: [0], 929: [0], 930: [0], 931: [0], 932: [0], 933: [0], 934: [0], 935: [0], 936: [0], 937: [0], 938: [0], 939: [0], 940: [0], 941: [0], 942: [0], 943: [0], 944: [0], 945: [0], 946: [0], 947: [0], 948: [0], 949: [0], 950: [0], 951: [0], 952: [0], 953: [0], 954: [0], 955: [0], 956: [0], 957: [0], 958: [0], 959: [0], 960: [0], 961: [0], 962: [0], 963: [0], 964: [0], 965: [0], 966: [0], 967: [0], 968: [0], 969: [0], 970: [0], 971: [0], 972: [0], 973: [0], 974: [0], 975: [0], 976: [0], 977: [0], 978: [0], 979: [0], 980: [0], 981: [0], 982: [0], 983: [4], 984: [4], 985: [4], 986: [4], 987: [4], 988: [4], 989: [4], 990: [4], 991: [4], 992: [4], 993: [4], 994: [4], 995: [4], 996: [4], 997: [4], 998: [4], 999: [4]}\n"
     ]
    }
   ],
   "source": [
    "import networkx as nx\n",
    "from karateclub import EgoNetSplitter\n",
    "\n",
    "g = nx.newman_watts_strogatz_graph(1000, 20, 0.05)\n",
    "\n",
    "splitter = EgoNetSplitter(1.0)\n",
    "\n",
    "splitter.fit(g)\n",
    "\n",
    "print(splitter.get_memberships())"
   ]
  }
 ],
 "metadata": {
  "accelerator": "GPU",
  "colab": {
   "authorship_tag": "ABX9TyODbEvqy9eUtPj54Wow5A8w",
   "collapsed_sections": [],
   "name": "ClusterGCN.ipynb",
   "provenance": []
  },
  "kernelspec": {
   "display_name": "Python 3",
   "language": "python",
   "name": "python3"
  },
  "language_info": {
   "codemirror_mode": {
    "name": "ipython",
    "version": 3
   },
   "file_extension": ".py",
   "mimetype": "text/x-python",
   "name": "python",
   "nbconvert_exporter": "python",
   "pygments_lexer": "ipython3",
   "version": "3.7.6"
  }
 },
 "nbformat": 4,
 "nbformat_minor": 1
}

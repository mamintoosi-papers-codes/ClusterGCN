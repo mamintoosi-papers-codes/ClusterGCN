{
 "cells": [
  {
   "cell_type": "markdown",
   "metadata": {
    "id": "c7kOSf97BXZA"
   },
   "source": [
    "https://github.com/mamintoosi-papers-codes/ClusterGCN"
   ]
  },
  {
   "cell_type": "code",
   "execution_count": 1,
   "metadata": {
    "colab": {
     "base_uri": "https://localhost:8080/"
    },
    "executionInfo": {
     "elapsed": 11501,
     "status": "ok",
     "timestamp": 1628582209646,
     "user": {
      "displayName": "Mahmood Amintoosi",
      "photoUrl": "https://lh3.googleusercontent.com/a-/AOh14GiWZ48HqYJJmPdDTueTtb12dMDVlabGiGyYWEXTkA=s64",
      "userId": "06389092743998374259"
     },
     "user_tz": -270
    },
    "id": "ZT1qA9rBBkJP",
    "outputId": "459eefe8-0d5f-4ba3-e1cb-908be7091519"
   },
   "outputs": [],
   "source": [
    "# !sudo apt-get install libmetis-dev\n",
    "# شاید لازم نباشه"
   ]
  },
  {
   "cell_type": "code",
   "execution_count": 2,
   "metadata": {
    "colab": {
     "base_uri": "https://localhost:8080/"
    },
    "executionInfo": {
     "elapsed": 15347,
     "status": "ok",
     "timestamp": 1628582224989,
     "user": {
      "displayName": "Mahmood Amintoosi",
      "photoUrl": "https://lh3.googleusercontent.com/a-/AOh14GiWZ48HqYJJmPdDTueTtb12dMDVlabGiGyYWEXTkA=s64",
      "userId": "06389092743998374259"
     },
     "user_tz": -270
    },
    "id": "5xgj1FAAC28m",
    "outputId": "18b860d2-331c-42b3-aab9-7f2a8220967c"
   },
   "outputs": [],
   "source": [
    "# Install required packages.\n",
    "# !pip install -q torch-scatter -f https://pytorch-geometric.com/whl/torch-1.9.0+cu102.html\n",
    "# !pip install -q torch-sparse -f https://pytorch-geometric.com/whl/torch-1.9.0+cu102.html\n",
    "# # !pip install -q torch-scatter #-f https://pytorch-geometric.com/whl/torch-1.9.0+cu102.html\n",
    "# # !pip install -q torch-sparse #-f https://pytorch-geometric.com/whl/torch-1.9.0+cu102.html\n",
    "# !pip install -q torch-geometric\n",
    "# # !pip install metis\n",
    "# !pip install texttable"
   ]
  },
  {
   "cell_type": "code",
   "execution_count": 3,
   "metadata": {
    "colab": {
     "base_uri": "https://localhost:8080/"
    },
    "executionInfo": {
     "elapsed": 2222,
     "status": "ok",
     "timestamp": 1628582227175,
     "user": {
      "displayName": "Mahmood Amintoosi",
      "photoUrl": "https://lh3.googleusercontent.com/a-/AOh14GiWZ48HqYJJmPdDTueTtb12dMDVlabGiGyYWEXTkA=s64",
      "userId": "06389092743998374259"
     },
     "user_tz": -270
    },
    "id": "IhXQ3I7XBV11",
    "outputId": "c34ab808-e9de-4153-db99-16ac9803e445"
   },
   "outputs": [],
   "source": [
    "# !git clone https://github.com/mamintoosi-papers-codes/ClusterGCN.git"
   ]
  },
  {
   "cell_type": "code",
   "execution_count": 4,
   "metadata": {
    "colab": {
     "base_uri": "https://localhost:8080/"
    },
    "executionInfo": {
     "elapsed": 31,
     "status": "ok",
     "timestamp": 1628582227181,
     "user": {
      "displayName": "Mahmood Amintoosi",
      "photoUrl": "https://lh3.googleusercontent.com/a-/AOh14GiWZ48HqYJJmPdDTueTtb12dMDVlabGiGyYWEXTkA=s64",
      "userId": "06389092743998374259"
     },
     "user_tz": -270
    },
    "id": "W3gS6tEhCAa4",
    "outputId": "e5f1bdf7-91a6-4de9-d132-b499f1e7b73a"
   },
   "outputs": [],
   "source": [
    "# %cd ClusterGCN/"
   ]
  },
  {
   "cell_type": "code",
   "execution_count": 8,
   "metadata": {
    "colab": {
     "base_uri": "https://localhost:8080/"
    },
    "executionInfo": {
     "elapsed": 55830,
     "status": "ok",
     "timestamp": 1628582331988,
     "user": {
      "displayName": "Mahmood Amintoosi",
      "photoUrl": "https://lh3.googleusercontent.com/a-/AOh14GiWZ48HqYJJmPdDTueTtb12dMDVlabGiGyYWEXTkA=s64",
      "userId": "06389092743998374259"
     },
     "user_tz": -270
    },
    "id": "yR_whwo8BrGN",
    "outputId": "7793cf19-65c4-4b01-cbc0-ab0019b07d25"
   },
   "outputs": [
    {
     "name": "stdout",
     "output_type": "stream",
     "text": [
      "(19717, 500) (19717, 1)\n",
      "clusters, len [0, 1, 2, 3, 4, 5, 6, 7] 8\n",
      "[1673. 1836. 1774. 2308. 3458.  730. 1172. 6766.]\n",
      "Clusters info: Min, Max, Sum element numbers: 730.0 6766.0 19717.0\n",
      "\n",
      "Num Clusters: 8\n"
     ]
    },
    {
     "name": "stderr",
     "output_type": "stream",
     "text": [
      "Train Loss: 0.8854: 100%|██████████| 10/10 [00:01<00:00,  6.41it/s]\n"
     ]
    },
    {
     "name": "stdout",
     "output_type": "stream",
     "text": [
      "\n",
      "F-1 score: 0.68\n",
      "CPU times: user 57.6 s, sys: 495 ms, total: 58.1 s\n",
      "Wall time: 37.3 s\n"
     ]
    }
   ],
   "source": [
    "%%time\n",
    "%run src/main.py --dataset-name 'PubMed' \\\n",
    "    --clustering-method 'danmf' --epochs 10\n",
    "# %run src/main.py --dataset_name 'Cora' --clustering-method 'danmf' --epochs 100\n",
    "# با کورا نتیجه بدتر شد"
   ]
  },
  {
   "cell_type": "code",
   "execution_count": 6,
   "metadata": {},
   "outputs": [
    {
     "name": "stdout",
     "output_type": "stream",
     "text": [
      "(19717, 500) (19717, 1)\n",
      "P.shape (19717, 8)\n",
      "clusters, len [0, 1, 2, 3, 4, 5, 6, 7] 8\n",
      "[2432. 3078. 2841. 2991. 5120. 1505. 2606. 8966.]\n",
      "Clusters info: Min, Max, Sum element numbers: 1505.0 8966.0 29539.0\n",
      "\n",
      "Num Clusters: 8\n"
     ]
    },
    {
     "name": "stderr",
     "output_type": "stream",
     "text": [
      "Train Loss: 0.6779: 100%|██████████| 10/10 [00:02<00:00,  4.57it/s]"
     ]
    },
    {
     "name": "stdout",
     "output_type": "stream",
     "text": [
      "\n",
      "F-1 score: 0.80\n",
      "CPU times: user 60 s, sys: 724 ms, total: 1min\n",
      "Wall time: 38.2 s\n"
     ]
    },
    {
     "name": "stderr",
     "output_type": "stream",
     "text": [
      "\n"
     ]
    }
   ],
   "source": [
    "%%time\n",
    "%run src/main.py --dataset-name 'PubMed' \\\n",
    "    --clustering-method 'danmf' --epochs 10\\\n",
    "    --clustering-overlap True\\\n",
    "    --membership-closeness 0.2"
   ]
  },
  {
   "cell_type": "markdown",
   "metadata": {},
   "source": [
    "PubMed:\n",
    "در تعداد خوشه مساوی وقتی آستانه قبول نودهای همسایه برای هم پوشانی خوشه ها یک چهارم اولی بود، متیس بهتر \n",
    "است در صد تکرار\n",
    "با آستانه ی یک دهم هم بهتر بود!\n",
    "البته باید مثلا ده بار اجرا بشه و میانگین گرفته بشه\n",
    "\n",
    "Cora: متیس بهتره"
   ]
  },
  {
   "cell_type": "code",
   "execution_count": 9,
   "metadata": {},
   "outputs": [
    {
     "name": "stdout",
     "output_type": "stream",
     "text": [
      "(2708, 1433) (2708, 1)\n"
     ]
    },
    {
     "name": "stderr",
     "output_type": "stream",
     "text": [
      "Train Loss: 1.9064:  20%|██        | 2/10 [00:00<00:00, 17.34it/s]"
     ]
    },
    {
     "name": "stdout",
     "output_type": "stream",
     "text": [
      "clusters, len [0, 1, 2, 3, 4, 5, 6, 7] 8\n",
      "[507. 329. 403. 159. 326.  45. 425. 514.]\n",
      "Clusters info: Min, Max, Sum element numbers: 45.0 514.0 2708.0\n",
      "\n",
      "Num Clusters: 8\n"
     ]
    },
    {
     "name": "stderr",
     "output_type": "stream",
     "text": [
      "Train Loss: 0.6365: 100%|██████████| 10/10 [00:00<00:00, 17.77it/s]"
     ]
    },
    {
     "name": "stdout",
     "output_type": "stream",
     "text": [
      "\n",
      "F-1 score: 0.74\n",
      "CPU times: user 12.5 s, sys: 222 ms, total: 12.8 s\n",
      "Wall time: 3.99 s\n"
     ]
    },
    {
     "name": "stderr",
     "output_type": "stream",
     "text": [
      "\n"
     ]
    }
   ],
   "source": [
    "%%time\n",
    "%run src/main.py --dataset-name 'Cora' \\\n",
    "    --clustering-method 'danmf' --epochs 10"
   ]
  },
  {
   "cell_type": "code",
   "execution_count": 10,
   "metadata": {},
   "outputs": [
    {
     "name": "stdout",
     "output_type": "stream",
     "text": [
      "(2708, 1433) (2708, 1)\n"
     ]
    },
    {
     "name": "stderr",
     "output_type": "stream",
     "text": [
      "\r",
      "Train Loss:   0%|          | 0/10 [00:00<?, ?it/s]"
     ]
    },
    {
     "name": "stdout",
     "output_type": "stream",
     "text": [
      "P.shape (2708, 8)\n",
      "clusters, len [0, 1, 2, 3, 4, 5, 6, 7] 8\n",
      "[ 657.  689.  817.  481.  748.  416.  786. 1022.]\n",
      "Clusters info: Min, Max, Sum element numbers: 416.0 1022.0 5616.0\n",
      "\n",
      "Num Clusters: 8\n"
     ]
    },
    {
     "name": "stderr",
     "output_type": "stream",
     "text": [
      "Train Loss: 0.3874: 100%|██████████| 10/10 [00:00<00:00, 12.44it/s]"
     ]
    },
    {
     "name": "stdout",
     "output_type": "stream",
     "text": [
      "\n",
      "F-1 score: 0.84\n",
      "CPU times: user 13.8 s, sys: 149 ms, total: 13.9 s\n",
      "Wall time: 4.42 s\n"
     ]
    },
    {
     "name": "stderr",
     "output_type": "stream",
     "text": [
      "\n"
     ]
    }
   ],
   "source": [
    "%%time\n",
    "%run src/main.py --dataset-name 'Cora' --clustering-overlap True\\\n",
    "    --clustering-method 'danmf' --epochs 10 \\\n",
    "    --membership-closeness 0.2"
   ]
  },
  {
   "cell_type": "code",
   "execution_count": 1,
   "metadata": {},
   "outputs": [
    {
     "name": "stdout",
     "output_type": "stream",
     "text": [
      "(3327, 3703) (3327, 1)\n"
     ]
    },
    {
     "name": "stderr",
     "output_type": "stream",
     "text": [
      "\r",
      "Train Loss:   0%|          | 0/10 [00:00<?, ?it/s]"
     ]
    },
    {
     "name": "stdout",
     "output_type": "stream",
     "text": [
      "clusters, len [0, 1, 2, 3, 4, 5, 6, 7] 8\n",
      "[1421.  339.   46.  730.  301.   61.  340.   89.]\n",
      "Clusters info: Min, Max element numbers: 46.0 1421.0\n",
      "\n",
      "Num Clusters: 8\n",
      "len subgraph 1421\n",
      "len subgraph 339\n",
      "len subgraph 46\n",
      "len subgraph 730\n",
      "len subgraph 301\n",
      "len subgraph 61\n",
      "len subgraph 340\n",
      "len subgraph 89\n",
      "\n",
      "Number of clusters' nodes: 3327\n"
     ]
    },
    {
     "name": "stderr",
     "output_type": "stream",
     "text": [
      "Train Loss: 0.7671: 100%|██████████| 10/10 [00:00<00:00, 11.33it/s]\n"
     ]
    },
    {
     "name": "stdout",
     "output_type": "stream",
     "text": [
      "\n",
      "F-1 score: 0.69\n",
      "CPU times: user 23.8 s, sys: 1.68 s, total: 25.5 s\n",
      "Wall time: 13.3 s\n"
     ]
    }
   ],
   "source": [
    "%%time\n",
    "%run src/main.py --dataset-name 'CiteSeer' \\\n",
    "    --clustering-method 'danmf' --epochs 10"
   ]
  },
  {
   "cell_type": "code",
   "execution_count": 9,
   "metadata": {},
   "outputs": [
    {
     "name": "stdout",
     "output_type": "stream",
     "text": [
      "(3327, 3703) (3327, 1)\n",
      "P.shape (3327, 8)\n",
      "clusters, len [0, 1, 2, 3, 4, 5, 6, 7] 8\n",
      "[1498. 1654. 1260. 2012. 1625. 1319. 1631. 1337.]\n",
      "Clusters info: Min, Max, Sum element numbers: 1260.0 2012.0 12336.0\n",
      "\n",
      "Num Clusters: 8\n"
     ]
    },
    {
     "name": "stderr",
     "output_type": "stream",
     "text": [
      "Train Loss: 0.3726: 100%|██████████| 10/10 [00:01<00:00,  5.15it/s]\n"
     ]
    },
    {
     "name": "stdout",
     "output_type": "stream",
     "text": [
      "\n",
      "F-1 score: 0.82\n",
      "CPU times: user 25.1 s, sys: 1.05 s, total: 26.2 s\n",
      "Wall time: 9.01 s\n"
     ]
    }
   ],
   "source": [
    "%%time\n",
    "%run src/main.py --dataset-name 'CiteSeer' --clustering-overlap True\\\n",
    "    --clustering-method 'danmf' --epochs 10\\\n",
    "    --membership-closeness 0.2"
   ]
  },
  {
   "cell_type": "code",
   "execution_count": 3,
   "metadata": {},
   "outputs": [
    {
     "name": "stdout",
     "output_type": "stream",
     "text": [
      "(11701, 300) (11701, 1)\n",
      "clusters, len [0, 1, 2, 3, 4, 5, 6, 7] 8\n",
      "[1619.  516. 1992.  277.  679. 3869. 1528. 1221.]\n",
      "Clusters info: Min, Max, Sum element numbers: 277.0 3869.0 11701.0\n",
      "\n",
      "Num Clusters: 8\n"
     ]
    },
    {
     "name": "stderr",
     "output_type": "stream",
     "text": [
      "Train Loss: 1.6768: 100%|██████████| 10/10 [00:05<00:00,  1.87it/s]\n"
     ]
    },
    {
     "name": "stdout",
     "output_type": "stream",
     "text": [
      "\n",
      "F-1 score: 0.51\n",
      "CPU times: user 5min 6s, sys: 10.6 s, total: 5min 17s\n",
      "Wall time: 4min 30s\n"
     ]
    }
   ],
   "source": [
    "%%time\n",
    "%run src/main.py --dataset-name 'WikiCS' \\\n",
    "    --clustering-method 'danmf' --epochs 10"
   ]
  },
  {
   "cell_type": "code",
   "execution_count": 10,
   "metadata": {},
   "outputs": [
    {
     "name": "stdout",
     "output_type": "stream",
     "text": [
      "(11701, 300) (11701, 1)\n",
      "P.shape (11701, 8)\n",
      "clusters, len [0, 1, 2, 3, 4, 5, 6, 7] 8\n",
      "[2193. 2048. 4941. 1815. 2643. 6277. 4027. 3429.]\n",
      "Clusters info: Min, Max, Sum element numbers: 1815.0 6277.0 27373.0\n",
      "\n",
      "Num Clusters: 8\n"
     ]
    },
    {
     "name": "stderr",
     "output_type": "stream",
     "text": [
      "Train Loss: 1.2766: 100%|██████████| 10/10 [00:09<00:00,  1.03it/s]\n"
     ]
    },
    {
     "name": "stdout",
     "output_type": "stream",
     "text": [
      "\n",
      "F-1 score: 0.66\n",
      "CPU times: user 5min 8s, sys: 11.1 s, total: 5min 19s\n",
      "Wall time: 4min 26s\n"
     ]
    }
   ],
   "source": [
    "%%time\n",
    "%run src/main.py --dataset-name 'WikiCS' --clustering-overlap True\\\n",
    "    --clustering-method 'danmf' --epochs 10\\\n",
    "    --membership-closeness 0.2"
   ]
  },
  {
   "cell_type": "code",
   "execution_count": null,
   "metadata": {},
   "outputs": [],
   "source": []
  },
  {
   "cell_type": "code",
   "execution_count": 11,
   "metadata": {},
   "outputs": [
    {
     "name": "stdout",
     "output_type": "stream",
     "text": [
      "(2708, 1433) (2708, 1)\n",
      "P.shape (2708, 8)\n",
      "clusters, len [0, 1, 2, 3, 4, 5, 6, 7] 8\n",
      "[ 687.  754.  864.  547.  796.  454.  832. 1119.]\n",
      "Clusters info: Min, Max, Sum element numbers: 454.0 1119.0 6053.0\n",
      "\n",
      "Num Clusters: 8\n"
     ]
    },
    {
     "name": "stderr",
     "output_type": "stream",
     "text": [
      "Train Loss: 0.3584: 100%|██████████| 10/10 [00:00<00:00, 11.35it/s]\n"
     ]
    },
    {
     "name": "stdout",
     "output_type": "stream",
     "text": [
      "\n",
      "F-1 score: 0.86\n",
      "CPU times: user 13.6 s, sys: 145 ms, total: 13.7 s\n",
      "Wall time: 4.35 s\n"
     ]
    }
   ],
   "source": [
    "%%time\n",
    "%run src/main.py --dataset-name 'Cora' --clustering-overlap True\\\n",
    "    --clustering-method 'danmf' --epochs 10 \\\n",
    "    --membership-closeness 0.1"
   ]
  },
  {
   "cell_type": "code",
   "execution_count": 12,
   "metadata": {},
   "outputs": [
    {
     "name": "stdout",
     "output_type": "stream",
     "text": [
      "(2708, 1433) (2708, 1)\n",
      "P.shape (2708, 8)\n",
      "clusters, len [0, 1, 2, 3, 4, 5, 6, 7] 8\n",
      "[ 657.  689.  817.  481.  748.  416.  786. 1022.]\n",
      "Clusters info: Min, Max, Sum element numbers: 416.0 1022.0 5616.0\n",
      "\n",
      "Num Clusters: 8\n"
     ]
    },
    {
     "name": "stderr",
     "output_type": "stream",
     "text": [
      "Train Loss: 0.3874: 100%|██████████| 10/10 [00:00<00:00, 12.95it/s]"
     ]
    },
    {
     "name": "stdout",
     "output_type": "stream",
     "text": [
      "\n",
      "F-1 score: 0.84\n",
      "CPU times: user 13.4 s, sys: 101 ms, total: 13.5 s\n",
      "Wall time: 4.29 s\n"
     ]
    },
    {
     "name": "stderr",
     "output_type": "stream",
     "text": [
      "\n"
     ]
    }
   ],
   "source": [
    "%%time\n",
    "%run src/main.py --dataset-name 'Cora' --clustering-overlap True\\\n",
    "    --clustering-method 'danmf' --epochs 10 \\\n",
    "    --membership-closeness 0.2"
   ]
  },
  {
   "cell_type": "code",
   "execution_count": 13,
   "metadata": {},
   "outputs": [
    {
     "name": "stdout",
     "output_type": "stream",
     "text": [
      "(2708, 1433) (2708, 1)\n",
      "P.shape (2708, 8)\n",
      "clusters, len [0, 1, 2, 3, 4, 5, 6, 7] 8\n",
      "[635. 651. 773. 435. 708. 392. 767. 917.]\n",
      "Clusters info: Min, Max, Sum element numbers: 392.0 917.0 5278.0\n",
      "\n",
      "Num Clusters: 8\n"
     ]
    },
    {
     "name": "stderr",
     "output_type": "stream",
     "text": [
      "Train Loss: 0.3789: 100%|██████████| 10/10 [00:00<00:00, 12.32it/s]\n"
     ]
    },
    {
     "name": "stdout",
     "output_type": "stream",
     "text": [
      "\n",
      "F-1 score: 0.87\n",
      "CPU times: user 13.8 s, sys: 134 ms, total: 13.9 s\n",
      "Wall time: 4.39 s\n"
     ]
    }
   ],
   "source": [
    "%%time\n",
    "%run src/main.py --dataset-name 'Cora' --clustering-overlap True\\\n",
    "    --clustering-method 'danmf' --epochs 10 \\\n",
    "    --membership-closeness 0.3"
   ]
  },
  {
   "cell_type": "code",
   "execution_count": 14,
   "metadata": {},
   "outputs": [
    {
     "name": "stdout",
     "output_type": "stream",
     "text": [
      "(2708, 1433) (2708, 1)\n"
     ]
    },
    {
     "name": "stderr",
     "output_type": "stream",
     "text": [
      "\r",
      "Train Loss:   0%|          | 0/10 [00:00<?, ?it/s]"
     ]
    },
    {
     "name": "stdout",
     "output_type": "stream",
     "text": [
      "P.shape (2708, 8)\n",
      "clusters, len [0, 1, 2, 3, 4, 5, 6, 7] 8\n",
      "[614. 628. 727. 425. 688. 381. 754. 850.]\n",
      "Clusters info: Min, Max, Sum element numbers: 381.0 850.0 5067.0\n",
      "\n",
      "Num Clusters: 8\n"
     ]
    },
    {
     "name": "stderr",
     "output_type": "stream",
     "text": [
      "Train Loss: 0.3866: 100%|██████████| 10/10 [00:00<00:00, 12.24it/s]"
     ]
    },
    {
     "name": "stdout",
     "output_type": "stream",
     "text": [
      "\n",
      "F-1 score: 0.88\n",
      "CPU times: user 13.3 s, sys: 81.9 ms, total: 13.4 s\n",
      "Wall time: 4.17 s\n"
     ]
    },
    {
     "name": "stderr",
     "output_type": "stream",
     "text": [
      "\n"
     ]
    }
   ],
   "source": [
    "%%time\n",
    "%run src/main.py --dataset-name 'Cora' --clustering-overlap True\\\n",
    "    --clustering-method 'danmf' --epochs 10 \\\n",
    "    --membership-closeness 0.4"
   ]
  },
  {
   "cell_type": "code",
   "execution_count": 15,
   "metadata": {},
   "outputs": [
    {
     "name": "stdout",
     "output_type": "stream",
     "text": [
      "(2708, 1433) (2708, 1)\n"
     ]
    },
    {
     "name": "stderr",
     "output_type": "stream",
     "text": [
      "\r",
      "Train Loss:   0%|          | 0/10 [00:00<?, ?it/s]"
     ]
    },
    {
     "name": "stdout",
     "output_type": "stream",
     "text": [
      "P.shape (2708, 8)\n",
      "clusters, len [0, 1, 2, 3, 4, 5, 6, 7] 8\n",
      "[596. 608. 705. 420. 654. 351. 734. 833.]\n",
      "Clusters info: Min, Max, Sum element numbers: 351.0 833.0 4901.0\n",
      "\n",
      "Num Clusters: 8\n"
     ]
    },
    {
     "name": "stderr",
     "output_type": "stream",
     "text": [
      "Train Loss: 0.4334: 100%|██████████| 10/10 [00:00<00:00, 14.19it/s]"
     ]
    },
    {
     "name": "stdout",
     "output_type": "stream",
     "text": [
      "\n",
      "F-1 score: 0.82\n",
      "CPU times: user 13.1 s, sys: 115 ms, total: 13.2 s\n",
      "Wall time: 4.16 s\n"
     ]
    },
    {
     "name": "stderr",
     "output_type": "stream",
     "text": [
      "\n"
     ]
    }
   ],
   "source": [
    "%%time\n",
    "%run src/main.py --dataset-name 'Cora' --clustering-overlap True\\\n",
    "    --clustering-method 'danmf' --epochs 10 \\\n",
    "    --membership-closeness 0.5"
   ]
  },
  {
   "cell_type": "code",
   "execution_count": 16,
   "metadata": {},
   "outputs": [
    {
     "name": "stdout",
     "output_type": "stream",
     "text": [
      "(2708, 1433) (2708, 1)\n"
     ]
    },
    {
     "name": "stderr",
     "output_type": "stream",
     "text": [
      "\r",
      "Train Loss:   0%|          | 0/10 [00:00<?, ?it/s]"
     ]
    },
    {
     "name": "stdout",
     "output_type": "stream",
     "text": [
      "P.shape (2708, 8)\n",
      "clusters, len [0, 1, 2, 3, 4, 5, 6, 7] 8\n",
      "[579. 594. 684. 409. 631. 327. 725. 805.]\n",
      "Clusters info: Min, Max, Sum element numbers: 327.0 805.0 4754.0\n",
      "\n",
      "Num Clusters: 8\n"
     ]
    },
    {
     "name": "stderr",
     "output_type": "stream",
     "text": [
      "Train Loss: 0.3764: 100%|██████████| 10/10 [00:00<00:00, 13.73it/s]"
     ]
    },
    {
     "name": "stdout",
     "output_type": "stream",
     "text": [
      "\n",
      "F-1 score: 0.88\n",
      "CPU times: user 13.2 s, sys: 168 ms, total: 13.4 s\n",
      "Wall time: 4.22 s\n"
     ]
    },
    {
     "name": "stderr",
     "output_type": "stream",
     "text": [
      "\n"
     ]
    }
   ],
   "source": [
    "%%time\n",
    "%run src/main.py --dataset-name 'Cora' --clustering-overlap True\\\n",
    "    --clustering-method 'danmf' --epochs 10 \\\n",
    "    --membership-closeness 0.6"
   ]
  },
  {
   "cell_type": "code",
   "execution_count": 17,
   "metadata": {},
   "outputs": [
    {
     "name": "stdout",
     "output_type": "stream",
     "text": [
      "(2708, 1433) (2708, 1)\n"
     ]
    },
    {
     "name": "stderr",
     "output_type": "stream",
     "text": [
      "\r",
      "Train Loss:   0%|          | 0/10 [00:00<?, ?it/s]"
     ]
    },
    {
     "name": "stdout",
     "output_type": "stream",
     "text": [
      "P.shape (2708, 8)\n",
      "clusters, len [0, 1, 2, 3, 4, 5, 6, 7] 8\n",
      "[521. 574. 669. 396. 608. 320. 715. 785.]\n",
      "Clusters info: Min, Max, Sum element numbers: 320.0 785.0 4588.0\n",
      "\n",
      "Num Clusters: 8\n"
     ]
    },
    {
     "name": "stderr",
     "output_type": "stream",
     "text": [
      "Train Loss: 0.4149: 100%|██████████| 10/10 [00:00<00:00, 13.44it/s]"
     ]
    },
    {
     "name": "stdout",
     "output_type": "stream",
     "text": [
      "\n",
      "F-1 score: 0.82\n",
      "CPU times: user 13.3 s, sys: 95.5 ms, total: 13.4 s\n",
      "Wall time: 4.23 s\n"
     ]
    },
    {
     "name": "stderr",
     "output_type": "stream",
     "text": [
      "\n"
     ]
    }
   ],
   "source": [
    "%%time\n",
    "%run src/main.py --dataset-name 'Cora' --clustering-overlap True\\\n",
    "    --clustering-method 'danmf' --epochs 10 \\\n",
    "    --membership-closeness 0.7"
   ]
  },
  {
   "cell_type": "code",
   "execution_count": 18,
   "metadata": {},
   "outputs": [
    {
     "name": "stdout",
     "output_type": "stream",
     "text": [
      "(2708, 1433) (2708, 1)\n",
      "P.shape (2708, 8)\n",
      "clusters, len [0, 1, 2, 3, 4, 5, 6, 7] 8\n",
      "[514. 569. 661. 389. 584. 271. 670. 768.]\n",
      "Clusters info: Min, Max, Sum element numbers: 271.0 768.0 4426.0\n",
      "\n",
      "Num Clusters: 8\n"
     ]
    },
    {
     "name": "stderr",
     "output_type": "stream",
     "text": [
      "Train Loss: 0.3132: 100%|██████████| 10/10 [00:00<00:00, 14.31it/s]"
     ]
    },
    {
     "name": "stdout",
     "output_type": "stream",
     "text": [
      "\n",
      "F-1 score: 0.85\n",
      "CPU times: user 13.4 s, sys: 73.2 ms, total: 13.5 s\n",
      "Wall time: 4.23 s\n"
     ]
    },
    {
     "name": "stderr",
     "output_type": "stream",
     "text": [
      "\n"
     ]
    }
   ],
   "source": [
    "%%time\n",
    "%run src/main.py --dataset-name 'Cora' --clustering-overlap True\\\n",
    "    --clustering-method 'danmf' --epochs 10 \\\n",
    "    --membership-closeness 0.8"
   ]
  },
  {
   "cell_type": "code",
   "execution_count": 19,
   "metadata": {},
   "outputs": [
    {
     "name": "stdout",
     "output_type": "stream",
     "text": [
      "(2708, 1433) (2708, 1)\n"
     ]
    },
    {
     "name": "stderr",
     "output_type": "stream",
     "text": [
      "\r",
      "Train Loss:   0%|          | 0/10 [00:00<?, ?it/s]"
     ]
    },
    {
     "name": "stdout",
     "output_type": "stream",
     "text": [
      "P.shape (2708, 8)\n",
      "clusters, len [0, 1, 2, 3, 4, 5, 6, 7] 8\n",
      "[510. 560. 642. 385. 562. 269. 653. 756.]\n",
      "Clusters info: Min, Max, Sum element numbers: 269.0 756.0 4337.0\n",
      "\n",
      "Num Clusters: 8\n"
     ]
    },
    {
     "name": "stderr",
     "output_type": "stream",
     "text": [
      "Train Loss: 0.3746: 100%|██████████| 10/10 [00:00<00:00, 14.97it/s]\n"
     ]
    },
    {
     "name": "stdout",
     "output_type": "stream",
     "text": [
      "\n",
      "F-1 score: 0.85\n",
      "CPU times: user 12.8 s, sys: 110 ms, total: 12.9 s\n",
      "Wall time: 4.03 s\n"
     ]
    }
   ],
   "source": [
    "%%time\n",
    "%run src/main.py --dataset-name 'Cora' --clustering-overlap True\\\n",
    "    --clustering-method 'danmf' --epochs 10 \\\n",
    "    --membership-closeness 0.9"
   ]
  },
  {
   "cell_type": "code",
   "execution_count": 25,
   "metadata": {},
   "outputs": [
    {
     "name": "stdout",
     "output_type": "stream",
     "text": [
      "(2708, 1433) (2708, 1)\n"
     ]
    },
    {
     "name": "stderr",
     "output_type": "stream",
     "text": [
      "\r",
      "Train Loss:   0%|          | 0/10 [00:00<?, ?it/s]"
     ]
    },
    {
     "name": "stdout",
     "output_type": "stream",
     "text": [
      "P.shape (2708, 8)\n",
      "clusters, len [0, 1, 2, 3, 4, 5, 6, 7] 8\n",
      "[507. 552. 628. 383. 549. 268. 648. 739.]\n",
      "Clusters info: Min, Max, Sum element numbers: 268.0 739.0 4274.0\n",
      "\n",
      "Num Clusters: 8\n"
     ]
    },
    {
     "name": "stderr",
     "output_type": "stream",
     "text": [
      "Train Loss: 0.4751: 100%|██████████| 10/10 [00:00<00:00, 14.22it/s]"
     ]
    },
    {
     "name": "stdout",
     "output_type": "stream",
     "text": [
      "\n",
      "F-1 score: 0.82\n",
      "CPU times: user 12.7 s, sys: 95.2 ms, total: 12.8 s\n",
      "Wall time: 4.02 s\n"
     ]
    },
    {
     "name": "stderr",
     "output_type": "stream",
     "text": [
      "\n"
     ]
    }
   ],
   "source": [
    "%%time\n",
    "%run src/main.py --dataset-name 'Cora' --clustering-overlap True\\\n",
    "    --clustering-method 'danmf' --epochs 10 \\\n",
    "    --membership-closeness .99"
   ]
  },
  {
   "cell_type": "code",
   "execution_count": 22,
   "metadata": {},
   "outputs": [
    {
     "name": "stdout",
     "output_type": "stream",
     "text": [
      "(2708, 1433) (2708, 1)\n"
     ]
    },
    {
     "name": "stderr",
     "output_type": "stream",
     "text": [
      "Train Loss: 1.9064:  20%|██        | 2/10 [00:00<00:00, 17.56it/s]"
     ]
    },
    {
     "name": "stdout",
     "output_type": "stream",
     "text": [
      "clusters, len [0, 1, 2, 3, 4, 5, 6, 7] 8\n",
      "[507. 329. 403. 159. 326.  45. 425. 514.]\n",
      "Clusters info: Min, Max, Sum element numbers: 45.0 514.0 2708.0\n",
      "\n",
      "Num Clusters: 8\n"
     ]
    },
    {
     "name": "stderr",
     "output_type": "stream",
     "text": [
      "Train Loss: 0.6365: 100%|██████████| 10/10 [00:00<00:00, 18.57it/s]\n"
     ]
    },
    {
     "name": "stdout",
     "output_type": "stream",
     "text": [
      "\n",
      "F-1 score: 0.74\n",
      "CPU times: user 12 s, sys: 44.3 ms, total: 12 s\n",
      "Wall time: 3.83 s\n"
     ]
    }
   ],
   "source": [
    "%%time\n",
    "%run src/main.py --dataset-name 'Cora'\\\n",
    "    --clustering-method 'danmf' --epochs 10 "
   ]
  },
  {
   "cell_type": "code",
   "execution_count": null,
   "metadata": {},
   "outputs": [],
   "source": []
  }
 ],
 "metadata": {
  "accelerator": "GPU",
  "colab": {
   "authorship_tag": "ABX9TyODbEvqy9eUtPj54Wow5A8w",
   "collapsed_sections": [],
   "name": "ClusterGCN.ipynb",
   "provenance": []
  },
  "kernelspec": {
   "display_name": "Python 3",
   "language": "python",
   "name": "python3"
  },
  "language_info": {
   "codemirror_mode": {
    "name": "ipython",
    "version": 3
   },
   "file_extension": ".py",
   "mimetype": "text/x-python",
   "name": "python",
   "nbconvert_exporter": "python",
   "pygments_lexer": "ipython3",
   "version": "3.7.6"
  }
 },
 "nbformat": 4,
 "nbformat_minor": 1
}

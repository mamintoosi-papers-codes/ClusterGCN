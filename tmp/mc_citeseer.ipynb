{
 "cells": [
  {
   "cell_type": "code",
   "execution_count": null,
   "metadata": {},
   "outputs": [],
   "source": []
  },
  {
   "cell_type": "code",
   "execution_count": 1,
   "metadata": {},
   "outputs": [],
   "source": [
    "# %%time\n",
    "# %run src/main.py --dataset-name 'CiteSeer'\\\n",
    "#     --clustering-method 'danmf' --epochs 10\n"
   ]
  },
  {
   "cell_type": "code",
   "execution_count": null,
   "metadata": {},
   "outputs": [],
   "source": []
  },
  {
   "cell_type": "code",
   "execution_count": 2,
   "metadata": {},
   "outputs": [
    {
     "name": "stdout",
     "output_type": "stream",
     "text": [
      "(3327, 3703) (3327, 1)\n",
      "P.shape (3327, 8)\n",
      "\n",
      "Num Clusters: 8\n"
     ]
    },
    {
     "name": "stderr",
     "output_type": "stream",
     "text": [
      "Train Loss: 1.7379:  20%|██        | 2/10 [00:00<00:00, 12.47it/s]"
     ]
    },
    {
     "name": "stdout",
     "output_type": "stream",
     "text": [
      "\n",
      "Number of clusters' nodes: 4063\n"
     ]
    },
    {
     "name": "stderr",
     "output_type": "stream",
     "text": [
      "Train Loss: 0.5841: 100%|██████████| 10/10 [00:00<00:00, 13.41it/s]"
     ]
    },
    {
     "name": "stdout",
     "output_type": "stream",
     "text": [
      "\n",
      "F-1 score: 0.71\n",
      "CPU times: user 19.3 s, sys: 1.19 s, total: 20.5 s\n",
      "Wall time: 10 s\n"
     ]
    },
    {
     "name": "stderr",
     "output_type": "stream",
     "text": [
      "\n"
     ]
    }
   ],
   "source": [
    "%%time\n",
    "%run src/main.py --dataset-name 'CiteSeer' --clustering-overlap True\\\n",
    "    --clustering-method 'danmf' --epochs 10\\\n",
    "    --membership-closeness 0.1\n",
    "\n",
    "Report_df = jadval.copy()\n",
    "# Report_df"
   ]
  },
  {
   "cell_type": "code",
   "execution_count": 3,
   "metadata": {},
   "outputs": [
    {
     "name": "stdout",
     "output_type": "stream",
     "text": [
      "(3327, 3703) (3327, 1)\n"
     ]
    },
    {
     "name": "stderr",
     "output_type": "stream",
     "text": [
      "\r",
      "Train Loss:   0%|          | 0/10 [00:00<?, ?it/s]"
     ]
    },
    {
     "name": "stdout",
     "output_type": "stream",
     "text": [
      "P.shape (3327, 8)\n",
      "\n",
      "Num Clusters: 8\n",
      "\n",
      "Number of clusters' nodes: 3845\n"
     ]
    },
    {
     "name": "stderr",
     "output_type": "stream",
     "text": [
      "Train Loss: 0.6153: 100%|██████████| 10/10 [00:00<00:00, 14.09it/s]"
     ]
    },
    {
     "name": "stdout",
     "output_type": "stream",
     "text": [
      "\n",
      "F-1 score: 0.71\n",
      "CPU times: user 15.4 s, sys: 301 ms, total: 15.7 s\n",
      "Wall time: 5.5 s\n"
     ]
    },
    {
     "name": "stderr",
     "output_type": "stream",
     "text": [
      "\n"
     ]
    }
   ],
   "source": [
    "%%time\n",
    "%run src/main.py --dataset-name 'CiteSeer' --clustering-overlap True\\\n",
    "    --clustering-method 'danmf' --epochs 10\\\n",
    "    --membership-closeness 0.2\n",
    "\n",
    "Report_df = Report_df.append(jadval, ignore_index=True)\n",
    "# Report_df"
   ]
  },
  {
   "cell_type": "code",
   "execution_count": 4,
   "metadata": {},
   "outputs": [
    {
     "name": "stdout",
     "output_type": "stream",
     "text": [
      "(3327, 3703) (3327, 1)\n",
      "P.shape (3327, 8)\n",
      "\n",
      "Num Clusters: 8\n"
     ]
    },
    {
     "name": "stderr",
     "output_type": "stream",
     "text": [
      "\r",
      "Train Loss:   0%|          | 0/10 [00:00<?, ?it/s]"
     ]
    },
    {
     "name": "stdout",
     "output_type": "stream",
     "text": [
      "\n",
      "Number of clusters' nodes: 3774\n"
     ]
    },
    {
     "name": "stderr",
     "output_type": "stream",
     "text": [
      "Train Loss: 0.6225: 100%|██████████| 10/10 [00:01<00:00,  6.80it/s]"
     ]
    },
    {
     "name": "stdout",
     "output_type": "stream",
     "text": [
      "\n",
      "F-1 score: 0.71\n",
      "CPU times: user 20 s, sys: 240 ms, total: 20.2 s\n",
      "Wall time: 7.12 s\n"
     ]
    },
    {
     "name": "stderr",
     "output_type": "stream",
     "text": [
      "\n"
     ]
    }
   ],
   "source": [
    "%%time\n",
    "%run src/main.py --dataset-name 'CiteSeer' --clustering-overlap True\\\n",
    "    --clustering-method 'danmf' --epochs 10\\\n",
    "    --membership-closeness 0.3\n",
    "\n",
    "Report_df = Report_df.append(jadval, ignore_index=True)"
   ]
  },
  {
   "cell_type": "code",
   "execution_count": 5,
   "metadata": {},
   "outputs": [
    {
     "name": "stdout",
     "output_type": "stream",
     "text": [
      "(3327, 3703) (3327, 1)\n",
      "P.shape (3327, 8)\n",
      "\n",
      "Num Clusters: 8\n",
      "\n",
      "Number of clusters' nodes: 3660\n"
     ]
    },
    {
     "name": "stderr",
     "output_type": "stream",
     "text": [
      "Train Loss: 0.6558: 100%|██████████| 10/10 [00:00<00:00, 12.47it/s]\n"
     ]
    },
    {
     "name": "stdout",
     "output_type": "stream",
     "text": [
      "\n",
      "F-1 score: 0.70\n",
      "CPU times: user 20.2 s, sys: 404 ms, total: 20.6 s\n",
      "Wall time: 7.03 s\n"
     ]
    }
   ],
   "source": [
    "%%time\n",
    "%run src/main.py --dataset-name 'CiteSeer' --clustering-overlap True\\\n",
    "    --clustering-method 'danmf' --epochs 10\\\n",
    "    --membership-closeness 0.4\n",
    "\n",
    "Report_df = Report_df.append(jadval, ignore_index=True)"
   ]
  },
  {
   "cell_type": "code",
   "execution_count": 6,
   "metadata": {},
   "outputs": [
    {
     "name": "stdout",
     "output_type": "stream",
     "text": [
      "(3327, 3703) (3327, 1)\n",
      "P.shape (3327, 8)\n",
      "\n",
      "Num Clusters: 8\n"
     ]
    },
    {
     "name": "stderr",
     "output_type": "stream",
     "text": [
      "\r",
      "Train Loss:   0%|          | 0/10 [00:00<?, ?it/s]"
     ]
    },
    {
     "name": "stdout",
     "output_type": "stream",
     "text": [
      "\n",
      "Number of clusters' nodes: 3592\n"
     ]
    },
    {
     "name": "stderr",
     "output_type": "stream",
     "text": [
      "Train Loss: 0.7342: 100%|██████████| 10/10 [00:01<00:00,  5.47it/s]\n"
     ]
    },
    {
     "name": "stdout",
     "output_type": "stream",
     "text": [
      "\n",
      "F-1 score: 0.69\n",
      "CPU times: user 22.9 s, sys: 342 ms, total: 23.2 s\n",
      "Wall time: 8.15 s\n"
     ]
    }
   ],
   "source": [
    "%%time\n",
    "%run src/main.py --dataset-name 'CiteSeer' --clustering-overlap True\\\n",
    "    --clustering-method 'danmf' --epochs 10\\\n",
    "    --membership-closeness 0.5\n",
    "\n",
    "Report_df = Report_df.append(jadval, ignore_index=True)"
   ]
  },
  {
   "cell_type": "code",
   "execution_count": 7,
   "metadata": {},
   "outputs": [
    {
     "name": "stdout",
     "output_type": "stream",
     "text": [
      "(3327, 3703) (3327, 1)\n",
      "P.shape (3327, 8)\n",
      "\n",
      "Num Clusters: 8\n"
     ]
    },
    {
     "name": "stderr",
     "output_type": "stream",
     "text": [
      "Train Loss: 1.8242:  10%|█         | 1/10 [00:00<00:01,  8.65it/s]"
     ]
    },
    {
     "name": "stdout",
     "output_type": "stream",
     "text": [
      "\n",
      "Number of clusters' nodes: 3475\n"
     ]
    },
    {
     "name": "stderr",
     "output_type": "stream",
     "text": [
      "Train Loss: 0.6638: 100%|██████████| 10/10 [00:00<00:00, 10.95it/s]\n"
     ]
    },
    {
     "name": "stdout",
     "output_type": "stream",
     "text": [
      "\n",
      "F-1 score: 0.69\n",
      "CPU times: user 19.6 s, sys: 526 ms, total: 20.1 s\n",
      "Wall time: 7.4 s\n"
     ]
    }
   ],
   "source": [
    "%%time\n",
    "%run src/main.py --dataset-name 'CiteSeer' --clustering-overlap True\\\n",
    "    --clustering-method 'danmf' --epochs 10\\\n",
    "    --membership-closeness 0.6\n",
    "\n",
    "Report_df = Report_df.append(jadval, ignore_index=True)"
   ]
  },
  {
   "cell_type": "code",
   "execution_count": 8,
   "metadata": {},
   "outputs": [
    {
     "name": "stdout",
     "output_type": "stream",
     "text": [
      "(3327, 3703) (3327, 1)\n",
      "P.shape (3327, 8)\n",
      "\n",
      "Num Clusters: 8\n"
     ]
    },
    {
     "name": "stderr",
     "output_type": "stream",
     "text": [
      "Train Loss: 1.7215:  20%|██        | 2/10 [00:00<00:00, 13.87it/s]"
     ]
    },
    {
     "name": "stdout",
     "output_type": "stream",
     "text": [
      "\n",
      "Number of clusters' nodes: 3434\n"
     ]
    },
    {
     "name": "stderr",
     "output_type": "stream",
     "text": [
      "Train Loss: 0.6714: 100%|██████████| 10/10 [00:00<00:00, 12.17it/s]\n"
     ]
    },
    {
     "name": "stdout",
     "output_type": "stream",
     "text": [
      "\n",
      "F-1 score: 0.71\n",
      "CPU times: user 25 s, sys: 751 ms, total: 25.8 s\n",
      "Wall time: 9.09 s\n"
     ]
    }
   ],
   "source": [
    "%%time\n",
    "%run src/main.py --dataset-name 'CiteSeer' --clustering-overlap True\\\n",
    "    --clustering-method 'danmf' --epochs 10\\\n",
    "    --membership-closeness 0.7\n",
    "\n",
    "Report_df = Report_df.append(jadval, ignore_index=True)"
   ]
  },
  {
   "cell_type": "code",
   "execution_count": 9,
   "metadata": {},
   "outputs": [
    {
     "name": "stdout",
     "output_type": "stream",
     "text": [
      "(3327, 3703) (3327, 1)\n",
      "P.shape (3327, 8)\n",
      "\n",
      "Num Clusters: 8\n"
     ]
    },
    {
     "name": "stderr",
     "output_type": "stream",
     "text": [
      "Train Loss: 1.7375:  20%|██        | 2/10 [00:00<00:00, 10.44it/s]"
     ]
    },
    {
     "name": "stdout",
     "output_type": "stream",
     "text": [
      "\n",
      "Number of clusters' nodes: 3379\n"
     ]
    },
    {
     "name": "stderr",
     "output_type": "stream",
     "text": [
      "Train Loss: 0.7406: 100%|██████████| 10/10 [00:01<00:00,  9.44it/s]"
     ]
    },
    {
     "name": "stdout",
     "output_type": "stream",
     "text": [
      "\n",
      "F-1 score: 0.68\n",
      "CPU times: user 20.6 s, sys: 441 ms, total: 21 s\n",
      "Wall time: 7.17 s\n"
     ]
    },
    {
     "name": "stderr",
     "output_type": "stream",
     "text": [
      "\n"
     ]
    }
   ],
   "source": [
    "%%time\n",
    "%run src/main.py --dataset-name 'CiteSeer' --clustering-overlap True\\\n",
    "    --clustering-method 'danmf' --epochs 10\\\n",
    "    --membership-closeness 0.8\n",
    "\n",
    "Report_df = Report_df.append(jadval, ignore_index=True)"
   ]
  },
  {
   "cell_type": "code",
   "execution_count": 10,
   "metadata": {},
   "outputs": [
    {
     "name": "stdout",
     "output_type": "stream",
     "text": [
      "(3327, 3703) (3327, 1)\n",
      "P.shape (3327, 8)\n",
      "\n",
      "Num Clusters: 8\n"
     ]
    },
    {
     "name": "stderr",
     "output_type": "stream",
     "text": [
      "Train Loss: 1.7505:  20%|██        | 2/10 [00:00<00:00, 11.23it/s]"
     ]
    },
    {
     "name": "stdout",
     "output_type": "stream",
     "text": [
      "\n",
      "Number of clusters' nodes: 3351\n"
     ]
    },
    {
     "name": "stderr",
     "output_type": "stream",
     "text": [
      "Train Loss: 0.6661: 100%|██████████| 10/10 [00:01<00:00,  9.61it/s]\n"
     ]
    },
    {
     "name": "stdout",
     "output_type": "stream",
     "text": [
      "\n",
      "F-1 score: 0.71\n",
      "CPU times: user 21.2 s, sys: 392 ms, total: 21.6 s\n",
      "Wall time: 7.25 s\n"
     ]
    }
   ],
   "source": [
    "%%time\n",
    "%run src/main.py --dataset-name 'CiteSeer' --clustering-overlap True\\\n",
    "    --clustering-method 'danmf' --epochs 10\\\n",
    "    --membership-closeness 0.9\n",
    "\n",
    "Report_df = Report_df.append(jadval, ignore_index=True)"
   ]
  },
  {
   "cell_type": "code",
   "execution_count": 11,
   "metadata": {},
   "outputs": [
    {
     "name": "stdout",
     "output_type": "stream",
     "text": [
      "(3327, 3703) (3327, 1)\n"
     ]
    },
    {
     "name": "stderr",
     "output_type": "stream",
     "text": [
      "\r",
      "Train Loss:   0%|          | 0/10 [00:00<?, ?it/s]"
     ]
    },
    {
     "name": "stdout",
     "output_type": "stream",
     "text": [
      "\n",
      "Num Clusters: 8\n",
      "\n",
      "Number of clusters' nodes: 3327\n"
     ]
    },
    {
     "name": "stderr",
     "output_type": "stream",
     "text": [
      "Train Loss: 0.7671: 100%|██████████| 10/10 [00:01<00:00,  7.45it/s]"
     ]
    },
    {
     "name": "stdout",
     "output_type": "stream",
     "text": [
      "\n",
      "F-1 score: 0.69\n",
      "CPU times: user 22.6 s, sys: 322 ms, total: 22.9 s\n",
      "Wall time: 8.05 s\n"
     ]
    },
    {
     "name": "stderr",
     "output_type": "stream",
     "text": [
      "\n"
     ]
    }
   ],
   "source": [
    "%%time\n",
    "%run src/main.py --dataset-name 'CiteSeer' \\\n",
    "    --clustering-method 'danmf' --epochs 10\\\n",
    "    --membership-closeness 1\n",
    "\n",
    "Report_df = Report_df.append(jadval, ignore_index=True)"
   ]
  },
  {
   "cell_type": "code",
   "execution_count": 12,
   "metadata": {},
   "outputs": [
    {
     "data": {
      "text/html": [
       "<div>\n",
       "<style scoped>\n",
       "    .dataframe tbody tr th:only-of-type {\n",
       "        vertical-align: middle;\n",
       "    }\n",
       "\n",
       "    .dataframe tbody tr th {\n",
       "        vertical-align: top;\n",
       "    }\n",
       "\n",
       "    .dataframe thead th {\n",
       "        text-align: right;\n",
       "    }\n",
       "</style>\n",
       "<table border=\"1\" class=\"dataframe\">\n",
       "  <thead>\n",
       "    <tr style=\"text-align: right;\">\n",
       "      <th></th>\n",
       "      <th>Winner Membership Closeness</th>\n",
       "      <th>dataset name</th>\n",
       "      <th>F-1 Score</th>\n",
       "      <th>Overlapped Nodes</th>\n",
       "      <th>Run Time</th>\n",
       "    </tr>\n",
       "  </thead>\n",
       "  <tbody>\n",
       "    <tr>\n",
       "      <th>0</th>\n",
       "      <td>0.1</td>\n",
       "      <td>CiteSeer</td>\n",
       "      <td>0.705304</td>\n",
       "      <td>0.221220</td>\n",
       "      <td>5.823217</td>\n",
       "    </tr>\n",
       "    <tr>\n",
       "      <th>1</th>\n",
       "      <td>0.2</td>\n",
       "      <td>CiteSeer</td>\n",
       "      <td>0.709091</td>\n",
       "      <td>0.155696</td>\n",
       "      <td>5.487456</td>\n",
       "    </tr>\n",
       "    <tr>\n",
       "      <th>2</th>\n",
       "      <td>0.3</td>\n",
       "      <td>CiteSeer</td>\n",
       "      <td>0.706994</td>\n",
       "      <td>0.134355</td>\n",
       "      <td>7.106486</td>\n",
       "    </tr>\n",
       "    <tr>\n",
       "      <th>3</th>\n",
       "      <td>0.4</td>\n",
       "      <td>CiteSeer</td>\n",
       "      <td>0.703314</td>\n",
       "      <td>0.100090</td>\n",
       "      <td>7.005780</td>\n",
       "    </tr>\n",
       "    <tr>\n",
       "      <th>4</th>\n",
       "      <td>0.5</td>\n",
       "      <td>CiteSeer</td>\n",
       "      <td>0.693805</td>\n",
       "      <td>0.079651</td>\n",
       "      <td>8.123543</td>\n",
       "    </tr>\n",
       "    <tr>\n",
       "      <th>5</th>\n",
       "      <td>0.6</td>\n",
       "      <td>CiteSeer</td>\n",
       "      <td>0.689245</td>\n",
       "      <td>0.044485</td>\n",
       "      <td>7.370539</td>\n",
       "    </tr>\n",
       "    <tr>\n",
       "      <th>6</th>\n",
       "      <td>0.7</td>\n",
       "      <td>CiteSeer</td>\n",
       "      <td>0.705565</td>\n",
       "      <td>0.032161</td>\n",
       "      <td>9.063613</td>\n",
       "    </tr>\n",
       "    <tr>\n",
       "      <th>7</th>\n",
       "      <td>0.8</td>\n",
       "      <td>CiteSeer</td>\n",
       "      <td>0.683411</td>\n",
       "      <td>0.015630</td>\n",
       "      <td>7.148387</td>\n",
       "    </tr>\n",
       "    <tr>\n",
       "      <th>8</th>\n",
       "      <td>0.9</td>\n",
       "      <td>CiteSeer</td>\n",
       "      <td>0.705657</td>\n",
       "      <td>0.007214</td>\n",
       "      <td>7.222687</td>\n",
       "    </tr>\n",
       "    <tr>\n",
       "      <th>9</th>\n",
       "      <td>1.0</td>\n",
       "      <td>CiteSeer</td>\n",
       "      <td>0.685249</td>\n",
       "      <td>0.000000</td>\n",
       "      <td>8.025238</td>\n",
       "    </tr>\n",
       "  </tbody>\n",
       "</table>\n",
       "</div>"
      ],
      "text/plain": [
       "   Winner Membership Closeness dataset name  F-1 Score  Overlapped Nodes  \\\n",
       "0                          0.1     CiteSeer   0.705304          0.221220   \n",
       "1                          0.2     CiteSeer   0.709091          0.155696   \n",
       "2                          0.3     CiteSeer   0.706994          0.134355   \n",
       "3                          0.4     CiteSeer   0.703314          0.100090   \n",
       "4                          0.5     CiteSeer   0.693805          0.079651   \n",
       "5                          0.6     CiteSeer   0.689245          0.044485   \n",
       "6                          0.7     CiteSeer   0.705565          0.032161   \n",
       "7                          0.8     CiteSeer   0.683411          0.015630   \n",
       "8                          0.9     CiteSeer   0.705657          0.007214   \n",
       "9                          1.0     CiteSeer   0.685249          0.000000   \n",
       "\n",
       "   Run Time  \n",
       "0  5.823217  \n",
       "1  5.487456  \n",
       "2  7.106486  \n",
       "3  7.005780  \n",
       "4  8.123543  \n",
       "5  7.370539  \n",
       "6  9.063613  \n",
       "7  7.148387  \n",
       "8  7.222687  \n",
       "9  8.025238  "
      ]
     },
     "execution_count": 12,
     "metadata": {},
     "output_type": "execute_result"
    }
   ],
   "source": [
    "Report_df"
   ]
  },
  {
   "cell_type": "code",
   "execution_count": 13,
   "metadata": {},
   "outputs": [],
   "source": [
    "file_name = 'results/F1_score.xlsx'\n",
    "writer = ExcelWriter(file_name)\n",
    "Report_df.to_excel(writer)#, sheet_name='All')  # , index=False)\n",
    "writer.save()        \n"
   ]
  },
  {
   "cell_type": "code",
   "execution_count": 3,
   "metadata": {},
   "outputs": [
    {
     "name": "stdout",
     "output_type": "stream",
     "text": [
      "(3327, 3703) (3327, 1)\n",
      "P.shape (3327, 8)\n",
      "\n",
      "Num Clusters: 8\n"
     ]
    },
    {
     "name": "stderr",
     "output_type": "stream",
     "text": [
      "Train Loss: 1.7379: 100%|██████████| 2/2 [00:00<00:00, 10.92it/s]"
     ]
    },
    {
     "name": "stdout",
     "output_type": "stream",
     "text": [
      "\n",
      "Number of clusters' nodes: 4063\n"
     ]
    },
    {
     "name": "stderr",
     "output_type": "stream",
     "text": [
      "\n"
     ]
    },
    {
     "name": "stdout",
     "output_type": "stream",
     "text": [
      "\n",
      "F-1 score: 0.39\n",
      "(3327, 3703) (3327, 1)\n"
     ]
    },
    {
     "name": "stderr",
     "output_type": "stream",
     "text": [
      "\r",
      "Train Loss:   0%|          | 0/2 [00:00<?, ?it/s]"
     ]
    },
    {
     "name": "stdout",
     "output_type": "stream",
     "text": [
      "P.shape (3327, 8)\n",
      "\n",
      "Num Clusters: 8\n",
      "\n",
      "Number of clusters' nodes: 3845\n"
     ]
    },
    {
     "name": "stderr",
     "output_type": "stream",
     "text": [
      "Train Loss: 1.736: 100%|██████████| 2/2 [00:00<00:00, 11.98it/s]\n"
     ]
    },
    {
     "name": "stdout",
     "output_type": "stream",
     "text": [
      "\n",
      "F-1 score: 0.44\n",
      "(2708, 1433) (2708, 1)\n"
     ]
    },
    {
     "name": "stderr",
     "output_type": "stream",
     "text": [
      "\r",
      "Train Loss:   0%|          | 0/2 [00:00<?, ?it/s]"
     ]
    },
    {
     "name": "stdout",
     "output_type": "stream",
     "text": [
      "P.shape (2708, 8)\n",
      "\n",
      "Num Clusters: 8\n",
      "\n",
      "Number of clusters' nodes: 4492\n"
     ]
    },
    {
     "name": "stderr",
     "output_type": "stream",
     "text": [
      "Train Loss: 1.7864: 100%|██████████| 2/2 [00:00<00:00,  9.67it/s]\n"
     ]
    },
    {
     "name": "stdout",
     "output_type": "stream",
     "text": [
      "\n",
      "F-1 score: 0.37\n",
      "(2708, 1433) (2708, 1)\n",
      "P.shape (2708, 8)\n",
      "\n",
      "Num Clusters: 8\n"
     ]
    },
    {
     "name": "stderr",
     "output_type": "stream",
     "text": [
      "Train Loss: 1.7944: 100%|██████████| 2/2 [00:00<00:00, 13.75it/s]"
     ]
    },
    {
     "name": "stdout",
     "output_type": "stream",
     "text": [
      "\n",
      "Number of clusters' nodes: 4055\n",
      "\n",
      "F-1 score: 0.34\n"
     ]
    },
    {
     "name": "stderr",
     "output_type": "stream",
     "text": [
      "\n"
     ]
    },
    {
     "data": {
      "text/html": [
       "<div>\n",
       "<style scoped>\n",
       "    .dataframe tbody tr th:only-of-type {\n",
       "        vertical-align: middle;\n",
       "    }\n",
       "\n",
       "    .dataframe tbody tr th {\n",
       "        vertical-align: top;\n",
       "    }\n",
       "\n",
       "    .dataframe thead th {\n",
       "        text-align: right;\n",
       "    }\n",
       "</style>\n",
       "<table border=\"1\" class=\"dataframe\">\n",
       "  <thead>\n",
       "    <tr style=\"text-align: right;\">\n",
       "      <th></th>\n",
       "      <th>Winner Membership Closeness</th>\n",
       "      <th>dataset name</th>\n",
       "      <th>F-1 Score</th>\n",
       "      <th>Overlapped Nodes</th>\n",
       "      <th>Run Time</th>\n",
       "    </tr>\n",
       "  </thead>\n",
       "  <tbody>\n",
       "    <tr>\n",
       "      <th>0</th>\n",
       "      <td>0.1</td>\n",
       "      <td>CiteSeer</td>\n",
       "      <td>0.390938</td>\n",
       "      <td>0.221220</td>\n",
       "      <td>4.922141</td>\n",
       "    </tr>\n",
       "    <tr>\n",
       "      <th>1</th>\n",
       "      <td>0.2</td>\n",
       "      <td>CiteSeer</td>\n",
       "      <td>0.438219</td>\n",
       "      <td>0.155696</td>\n",
       "      <td>5.194663</td>\n",
       "    </tr>\n",
       "    <tr>\n",
       "      <th>2</th>\n",
       "      <td>0.1</td>\n",
       "      <td>Cora</td>\n",
       "      <td>0.368806</td>\n",
       "      <td>0.658789</td>\n",
       "      <td>3.975128</td>\n",
       "    </tr>\n",
       "    <tr>\n",
       "      <th>3</th>\n",
       "      <td>0.2</td>\n",
       "      <td>Cora</td>\n",
       "      <td>0.341892</td>\n",
       "      <td>0.497415</td>\n",
       "      <td>3.921048</td>\n",
       "    </tr>\n",
       "  </tbody>\n",
       "</table>\n",
       "</div>"
      ],
      "text/plain": [
       "   Winner Membership Closeness dataset name  F-1 Score  Overlapped Nodes  \\\n",
       "0                          0.1     CiteSeer   0.390938          0.221220   \n",
       "1                          0.2     CiteSeer   0.438219          0.155696   \n",
       "2                          0.1         Cora   0.368806          0.658789   \n",
       "3                          0.2         Cora   0.341892          0.497415   \n",
       "\n",
       "   Run Time  \n",
       "0  4.922141  \n",
       "1  5.194663  \n",
       "2  3.975128  \n",
       "3  3.921048  "
      ]
     },
     "execution_count": 3,
     "metadata": {},
     "output_type": "execute_result"
    }
   ],
   "source": [
    "Report = []\n",
    "for ds_name in ['CiteSeer', 'Cora']:\n",
    "    for mc in [x / 10.0 for x in range(1, 3)]: #11)]\n",
    "        %run src/main.py --dataset-name {ds_name} --clustering-overlap True\\\n",
    "        --clustering-method 'danmf' --epochs 2\\\n",
    "        --membership-closeness {mc}\n",
    "        Report.append(ds_report)\n",
    "        \n",
    "df = pd.DataFrame(Report, columns=['Winner Membership Closeness','dataset name',\\\n",
    "'F-1 Score', 'Overlapped Nodes','Run Time'])\n",
    "df"
   ]
  },
  {
   "cell_type": "code",
   "execution_count": 2,
   "metadata": {},
   "outputs": [
    {
     "data": {
      "text/html": [
       "<div>\n",
       "<style scoped>\n",
       "    .dataframe tbody tr th:only-of-type {\n",
       "        vertical-align: middle;\n",
       "    }\n",
       "\n",
       "    .dataframe tbody tr th {\n",
       "        vertical-align: top;\n",
       "    }\n",
       "\n",
       "    .dataframe thead th {\n",
       "        text-align: right;\n",
       "    }\n",
       "</style>\n",
       "<table border=\"1\" class=\"dataframe\">\n",
       "  <thead>\n",
       "    <tr style=\"text-align: right;\">\n",
       "      <th></th>\n",
       "      <th>Winner Membership Closeness</th>\n",
       "      <th>dataset name</th>\n",
       "      <th>F-1 Score</th>\n",
       "      <th>Overlapped Nodes</th>\n",
       "      <th>Run Time</th>\n",
       "    </tr>\n",
       "  </thead>\n",
       "  <tbody>\n",
       "    <tr>\n",
       "      <th>0</th>\n",
       "      <td>1.0</td>\n",
       "      <td>CiteSeer</td>\n",
       "      <td>0.475986</td>\n",
       "      <td>0.0</td>\n",
       "      <td>5.219955</td>\n",
       "    </tr>\n",
       "    <tr>\n",
       "      <th>1</th>\n",
       "      <td>1.0</td>\n",
       "      <td>CiteSeer</td>\n",
       "      <td>0.475986</td>\n",
       "      <td>0.0</td>\n",
       "      <td>4.986057</td>\n",
       "    </tr>\n",
       "    <tr>\n",
       "      <th>2</th>\n",
       "      <td>1.0</td>\n",
       "      <td>Cora</td>\n",
       "      <td>0.305263</td>\n",
       "      <td>0.0</td>\n",
       "      <td>4.222513</td>\n",
       "    </tr>\n",
       "    <tr>\n",
       "      <th>3</th>\n",
       "      <td>1.0</td>\n",
       "      <td>Cora</td>\n",
       "      <td>0.305263</td>\n",
       "      <td>0.0</td>\n",
       "      <td>4.141019</td>\n",
       "    </tr>\n",
       "  </tbody>\n",
       "</table>\n",
       "</div>"
      ],
      "text/plain": [
       "   Winner Membership Closeness dataset name  F-1 Score  Overlapped Nodes  \\\n",
       "0                          1.0     CiteSeer   0.475986               0.0   \n",
       "1                          1.0     CiteSeer   0.475986               0.0   \n",
       "2                          1.0         Cora   0.305263               0.0   \n",
       "3                          1.0         Cora   0.305263               0.0   \n",
       "\n",
       "   Run Time  \n",
       "0  5.219955  \n",
       "1  4.986057  \n",
       "2  4.222513  \n",
       "3  4.141019  "
      ]
     },
     "execution_count": 2,
     "metadata": {},
     "output_type": "execute_result"
    }
   ],
   "source": [
    "df = pd.DataFrame(Report, columns=['Winner Membership Closeness','dataset name',\\\n",
    "'F-1 Score', 'Overlapped Nodes','Run Time'])\n",
    "df"
   ]
  },
  {
   "cell_type": "code",
   "execution_count": 1,
   "metadata": {},
   "outputs": [
    {
     "data": {
      "text/plain": [
       "3"
      ]
     },
     "execution_count": 1,
     "metadata": {},
     "output_type": "execute_result"
    }
   ],
   "source": [
    "num_labels = {'CiteSeer':6, 'Cora':7, 'PubMed':3, 'WikiCS':10}\n",
    "num_labels['PubMed']"
   ]
  }
 ],
 "metadata": {
  "kernelspec": {
   "display_name": "Python 3",
   "language": "python",
   "name": "python3"
  },
  "language_info": {
   "codemirror_mode": {
    "name": "ipython",
    "version": 3
   },
   "file_extension": ".py",
   "mimetype": "text/x-python",
   "name": "python",
   "nbconvert_exporter": "python",
   "pygments_lexer": "ipython3",
   "version": "3.7.6"
  }
 },
 "nbformat": 4,
 "nbformat_minor": 4
}

{
 "cells": [
  {
   "cell_type": "code",
   "execution_count": 20,
   "metadata": {},
   "outputs": [
    {
     "name": "stdout",
     "output_type": "stream",
     "text": [
      "The autoreload extension is already loaded. To reload it, use:\n",
      "  %reload_ext autoreload\n",
      "+-------------------+----------------------+\n",
      "|     Parameter     |        Value         |\n",
      "+===================+======================+\n",
      "| Cluster number    | 10                   |\n",
      "+-------------------+----------------------+\n",
      "| Clustering method | metis                |\n",
      "+-------------------+----------------------+\n",
      "| Dropout           | 0.500                |\n",
      "+-------------------+----------------------+\n",
      "| Edge path         | ./input/edges.csv    |\n",
      "+-------------------+----------------------+\n",
      "| Epochs            | 50                   |\n",
      "+-------------------+----------------------+\n",
      "| Features path     | ./input/features.csv |\n",
      "+-------------------+----------------------+\n",
      "| Layers            | [16, 16, 16]         |\n",
      "+-------------------+----------------------+\n",
      "| Learning rate     | 0.010                |\n",
      "+-------------------+----------------------+\n",
      "| Seed              | 42                   |\n",
      "+-------------------+----------------------+\n",
      "| Target path       | ./input/target.csv   |\n",
      "+-------------------+----------------------+\n",
      "| Test ratio        | 0.700                |\n",
      "+-------------------+----------------------+\n",
      "\n",
      "Metis graph clustering started.\n",
      "\n"
     ]
    },
    {
     "name": "stderr",
     "output_type": "stream",
     "text": [
      "Train Loss: 1.004:   2%|▏         | 1/50 [00:00<00:09,  5.25it/s]"
     ]
    },
    {
     "name": "stdout",
     "output_type": "stream",
     "text": [
      "Training started.\n",
      "\n"
     ]
    },
    {
     "name": "stderr",
     "output_type": "stream",
     "text": [
      "Train Loss: 0.1149: 100%|██████████| 50/50 [00:25<00:00,  1.95it/s]\n"
     ]
    },
    {
     "name": "stdout",
     "output_type": "stream",
     "text": [
      "\n",
      "F-1 score: 0.8353\n"
     ]
    }
   ],
   "source": [
    "%load_ext autoreload\n",
    "%autoreload 2\n",
    "%run src/main.py --clustering-method 'metis'"
   ]
  },
  {
   "cell_type": "code",
   "execution_count": 17,
   "metadata": {},
   "outputs": [
    {
     "data": {
      "text/plain": [
       "networkx.classes.graph.Graph"
      ]
     },
     "execution_count": 17,
     "metadata": {},
     "output_type": "execute_result"
    }
   ],
   "source": [
    "# M.Amintoosi\n",
    "# nx.write_edgelist(nx.path_graph(4), \"test.edgelist\")\n",
    "# G = nx.read_edgelist(\"test.edgelist\")\n",
    "type(G)"
   ]
  },
  {
   "cell_type": "code",
   "execution_count": 10,
   "metadata": {},
   "outputs": [
    {
     "data": {
      "application/vnd.jupyter.widget-view+json": {
       "model_id": "0cc3ba72182443c9a8606957dbd57ac6",
       "version_major": 2,
       "version_minor": 0
      },
      "text/plain": [
       "HBox(children=(FloatProgress(value=0.0, description='Computing transition probabilities', max=9.0, style=Progr…"
      ]
     },
     "metadata": {},
     "output_type": "display_data"
    },
    {
     "name": "stdout",
     "output_type": "stream",
     "text": [
      "\n"
     ]
    },
    {
     "data": {
      "image/png": "[encoded data removed]",
      "text/plain": [
       "<Figure size 432x288 with 1 Axes>"
      ]
     },
     "metadata": {},
     "output_type": "display_data"
    }
   ],
   "source": [
    "import networkx as nx\n",
    "G=nx.Graph();\n",
    "G=nx.read_edgelist(\"input/edges.txt\") # edges.txt contains the edge list of your graph\n",
    "\n",
    "# help to draw https://networkx.github.io/documentation/networkx-1.9/examples/drawing/labels_and_colors.html\n",
    "nx.draw(G,with_labels = True,node_color='b',node_size=500);\n",
    "\n",
    "from node2vec import Node2Vec\n",
    "# Generate walks\n",
    "node2vec = Node2Vec(G, dimensions=2, walk_length=20, num_walks=10,workers=4)\n",
    "# Learn embeddings \n",
    "model = node2vec.fit(window=10, min_count=1)\n",
    "#model.wv.most_similar('1')\n",
    "model.wv.save_word2vec_format(\"tmp/embedding.emb\") #save the embedding in file embedding.emb"
   ]
  },
  {
   "cell_type": "code",
   "execution_count": 12,
   "metadata": {},
   "outputs": [
    {
     "name": "stdout",
     "output_type": "stream",
     "text": [
      "[0 1 1 0 0 1 0 1 1]\n",
      "[ True False False  True  True False  True False False]\n"
     ]
    }
   ],
   "source": [
    "from sklearn.cluster import KMeans\n",
    "import numpy as np\n",
    "\n",
    "\n",
    "X = np.loadtxt(\"tmp/embedding.emb\", skiprows=1) # load the embedding of the nodes of the graph\n",
    "#print(X)\n",
    "# sort the embedding based on node index in the first column in X\n",
    "X=X[X[:,0].argsort()]; \n",
    "#print(X)\n",
    "Z=X[0:X.shape[0],1:X.shape[1]]; # remove the node index from X and save in Z\n",
    "\n",
    "kmeans = KMeans(n_clusters=2, random_state=0).fit(Z) # apply kmeans on Z\n",
    "labels=kmeans.labels_  # get the cluster labels of the nodes.\n",
    "print(labels)\n",
    "print(np.where(labels==0))"
   ]
  },
  {
   "cell_type": "code",
   "execution_count": null,
   "metadata": {},
   "outputs": [],
   "source": []
  }
 ],
 "metadata": {
  "kernelspec": {
   "display_name": "Python 3",
   "language": "python",
   "name": "python3"
  },
  "language_info": {
   "codemirror_mode": {
    "name": "ipython",
    "version": 3
   },
   "file_extension": ".py",
   "mimetype": "text/x-python",
   "name": "python",
   "nbconvert_exporter": "python",
   "pygments_lexer": "ipython3",
   "version": "3.7.6"
  }
 },
 "nbformat": 4,
 "nbformat_minor": 4
}
